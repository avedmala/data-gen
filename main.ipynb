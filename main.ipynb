{
  "cells": [
    {
      "cell_type": "markdown",
      "id": "0792dbc7-2674-44eb-bddc-574e943f8034",
      "metadata": {
        "id": "0792dbc7-2674-44eb-bddc-574e943f8034"
      },
      "source": [
        "# Data gen"
      ]
    },
    {
      "cell_type": "markdown",
      "id": "07a06513-58d9-4644-9bd2-c3f873a00306",
      "metadata": {
        "id": "07a06513-58d9-4644-9bd2-c3f873a00306"
      },
      "source": [
        "By: Abhinav Vedmala, Nikhil Ghate, Om Pathak (Team NOA)"
      ]
    },
    {
      "cell_type": "markdown",
      "id": "4e7e47ba-b1b5-4f17-89a8-e68ed541789f",
      "metadata": {
        "id": "4e7e47ba-b1b5-4f17-89a8-e68ed541789f"
      },
      "source": [
        "Have you ever wondered what factors go into loan approval, and whether or not you would qualify? When a loan application is submitted, the bank looks at information such as income, credit score, employment, and debt-to-income ratio.\n",
        "\n",
        "We found a dataset that describes loan applicant information, and whether or not they got approved. The goal of our project is to perform  exploratory data analysis to determine whether some factors are more relevant than others when it comes to loan approval. We will also explore topics such as hot-encoding, imputation, and synthetic data generation.\n",
        "\n",
        "Here are links to resources and tools we used for our project:\n",
        "- [DataProfiler](https://capitalone.github.io/DataProfiler/docs/0.7.7/html/index.html)\n",
        "- [Matplotlib](https://matplotlib.org/stable/index.html)\n",
        "- [Numpy](https://numpy.org/doc/)\n",
        "- [Pandas](https://pandas.pydata.org/pandas-docs/stable/)\n",
        "- [Seaborn](https://seaborn.pydata.org/)\n",
        "- [missingpy](https://github.com/epsilon-machine/missingpy)\n",
        "- [sklearn](https://scikit-learn.org/stable/)"
      ]
    },
    {
      "cell_type": "code",
      "execution_count": 1,
      "id": "df90e38b-33fc-472c-bb35-a5d2c69d9874",
      "metadata": {
        "id": "df90e38b-33fc-472c-bb35-a5d2c69d9874"
      },
      "outputs": [],
      "source": [
        "import dataprofiler as dp\n",
        "import matplotlib.pyplot as plt\n",
        "import numpy as np\n",
        "import pandas as pd\n",
        "import seaborn as sns\n",
        "import sys \n",
        "import sklearn.neighbors._base\n",
        "sys.modules['sklearn.neighbors.base'] = sklearn.neighbors._base\n",
        "from missingpy import MissForest\n",
        "\n",
        "from scipy import stats\n",
        "from sklearn import datasets\n",
        "from sklearn.model_selection import train_test_split\n",
        "from sklearn.preprocessing import MinMaxScaler\n",
        "from sklearn.impute import SimpleImputer \n",
        "from sklearn.svm import SVC"
      ]
    },
    {
      "cell_type": "markdown",
      "id": "572cedbc-461b-4860-a5e2-1a09cb7ba0eb",
      "metadata": {
        "id": "572cedbc-461b-4860-a5e2-1a09cb7ba0eb",
        "outputId": "a1c671e9-3030-48cc-cac5-40d8a26b48d8"
      },
      "source": [
        "## Data Collection and Curation"
      ]
    },
    {
      "cell_type": "markdown",
      "id": "d457b272-b401-4594-af17-6329766bb726",
      "metadata": {
        "id": "d457b272-b401-4594-af17-6329766bb726"
      },
      "source": [
        "#### Loading Data "
      ]
    },
    {
      "cell_type": "code",
      "execution_count": 2,
      "id": "84ff8889-f68e-4689-b9ca-8f88cb1967c8",
      "metadata": {
        "colab": {
          "base_uri": "https://localhost:8080/",
          "height": 505
        },
        "id": "84ff8889-f68e-4689-b9ca-8f88cb1967c8",
        "outputId": "eb0d5b28-44bb-4a13-ca7b-b97e88ca710a"
      },
      "outputs": [
        {
          "output_type": "execute_result",
          "data": {
            "text/plain": [
              "      Loan_ID  Gender Married Dependents     Education Self_Employed  \\\n",
              "0    LP001002    Male      No          0      Graduate            No   \n",
              "1    LP001003    Male     Yes          1      Graduate            No   \n",
              "2    LP001005    Male     Yes          0      Graduate           Yes   \n",
              "3    LP001006    Male     Yes          0  Not Graduate            No   \n",
              "4    LP001008    Male      No          0      Graduate            No   \n",
              "..        ...     ...     ...        ...           ...           ...   \n",
              "609  LP002978  Female      No          0      Graduate            No   \n",
              "610  LP002979    Male     Yes         3+      Graduate            No   \n",
              "611  LP002983    Male     Yes          1      Graduate            No   \n",
              "612  LP002984    Male     Yes          2      Graduate            No   \n",
              "613  LP002990  Female      No          0      Graduate           Yes   \n",
              "\n",
              "     ApplicantIncome  CoapplicantIncome  LoanAmount  Loan_Amount_Term  \\\n",
              "0               5849                0.0         NaN             360.0   \n",
              "1               4583             1508.0       128.0             360.0   \n",
              "2               3000                0.0        66.0             360.0   \n",
              "3               2583             2358.0       120.0             360.0   \n",
              "4               6000                0.0       141.0             360.0   \n",
              "..               ...                ...         ...               ...   \n",
              "609             2900                0.0        71.0             360.0   \n",
              "610             4106                0.0        40.0             180.0   \n",
              "611             8072              240.0       253.0             360.0   \n",
              "612             7583                0.0       187.0             360.0   \n",
              "613             4583                0.0       133.0             360.0   \n",
              "\n",
              "     Credit_History Property_Area Loan_Status  \n",
              "0               1.0         Urban           Y  \n",
              "1               1.0         Rural           N  \n",
              "2               1.0         Urban           Y  \n",
              "3               1.0         Urban           Y  \n",
              "4               1.0         Urban           Y  \n",
              "..              ...           ...         ...  \n",
              "609             1.0         Rural           Y  \n",
              "610             1.0         Rural           Y  \n",
              "611             1.0         Urban           Y  \n",
              "612             1.0         Urban           Y  \n",
              "613             0.0     Semiurban           N  \n",
              "\n",
              "[614 rows x 13 columns]"
            ],
            "text/html": [
              "\n",
              "  <div id=\"df-19d9c81b-dcf2-4484-a28b-711473c50c67\">\n",
              "    <div class=\"colab-df-container\">\n",
              "      <div>\n",
              "<style scoped>\n",
              "    .dataframe tbody tr th:only-of-type {\n",
              "        vertical-align: middle;\n",
              "    }\n",
              "\n",
              "    .dataframe tbody tr th {\n",
              "        vertical-align: top;\n",
              "    }\n",
              "\n",
              "    .dataframe thead th {\n",
              "        text-align: right;\n",
              "    }\n",
              "</style>\n",
              "<table border=\"1\" class=\"dataframe\">\n",
              "  <thead>\n",
              "    <tr style=\"text-align: right;\">\n",
              "      <th></th>\n",
              "      <th>Loan_ID</th>\n",
              "      <th>Gender</th>\n",
              "      <th>Married</th>\n",
              "      <th>Dependents</th>\n",
              "      <th>Education</th>\n",
              "      <th>Self_Employed</th>\n",
              "      <th>ApplicantIncome</th>\n",
              "      <th>CoapplicantIncome</th>\n",
              "      <th>LoanAmount</th>\n",
              "      <th>Loan_Amount_Term</th>\n",
              "      <th>Credit_History</th>\n",
              "      <th>Property_Area</th>\n",
              "      <th>Loan_Status</th>\n",
              "    </tr>\n",
              "  </thead>\n",
              "  <tbody>\n",
              "    <tr>\n",
              "      <th>0</th>\n",
              "      <td>LP001002</td>\n",
              "      <td>Male</td>\n",
              "      <td>No</td>\n",
              "      <td>0</td>\n",
              "      <td>Graduate</td>\n",
              "      <td>No</td>\n",
              "      <td>5849</td>\n",
              "      <td>0.0</td>\n",
              "      <td>NaN</td>\n",
              "      <td>360.0</td>\n",
              "      <td>1.0</td>\n",
              "      <td>Urban</td>\n",
              "      <td>Y</td>\n",
              "    </tr>\n",
              "    <tr>\n",
              "      <th>1</th>\n",
              "      <td>LP001003</td>\n",
              "      <td>Male</td>\n",
              "      <td>Yes</td>\n",
              "      <td>1</td>\n",
              "      <td>Graduate</td>\n",
              "      <td>No</td>\n",
              "      <td>4583</td>\n",
              "      <td>1508.0</td>\n",
              "      <td>128.0</td>\n",
              "      <td>360.0</td>\n",
              "      <td>1.0</td>\n",
              "      <td>Rural</td>\n",
              "      <td>N</td>\n",
              "    </tr>\n",
              "    <tr>\n",
              "      <th>2</th>\n",
              "      <td>LP001005</td>\n",
              "      <td>Male</td>\n",
              "      <td>Yes</td>\n",
              "      <td>0</td>\n",
              "      <td>Graduate</td>\n",
              "      <td>Yes</td>\n",
              "      <td>3000</td>\n",
              "      <td>0.0</td>\n",
              "      <td>66.0</td>\n",
              "      <td>360.0</td>\n",
              "      <td>1.0</td>\n",
              "      <td>Urban</td>\n",
              "      <td>Y</td>\n",
              "    </tr>\n",
              "    <tr>\n",
              "      <th>3</th>\n",
              "      <td>LP001006</td>\n",
              "      <td>Male</td>\n",
              "      <td>Yes</td>\n",
              "      <td>0</td>\n",
              "      <td>Not Graduate</td>\n",
              "      <td>No</td>\n",
              "      <td>2583</td>\n",
              "      <td>2358.0</td>\n",
              "      <td>120.0</td>\n",
              "      <td>360.0</td>\n",
              "      <td>1.0</td>\n",
              "      <td>Urban</td>\n",
              "      <td>Y</td>\n",
              "    </tr>\n",
              "    <tr>\n",
              "      <th>4</th>\n",
              "      <td>LP001008</td>\n",
              "      <td>Male</td>\n",
              "      <td>No</td>\n",
              "      <td>0</td>\n",
              "      <td>Graduate</td>\n",
              "      <td>No</td>\n",
              "      <td>6000</td>\n",
              "      <td>0.0</td>\n",
              "      <td>141.0</td>\n",
              "      <td>360.0</td>\n",
              "      <td>1.0</td>\n",
              "      <td>Urban</td>\n",
              "      <td>Y</td>\n",
              "    </tr>\n",
              "    <tr>\n",
              "      <th>...</th>\n",
              "      <td>...</td>\n",
              "      <td>...</td>\n",
              "      <td>...</td>\n",
              "      <td>...</td>\n",
              "      <td>...</td>\n",
              "      <td>...</td>\n",
              "      <td>...</td>\n",
              "      <td>...</td>\n",
              "      <td>...</td>\n",
              "      <td>...</td>\n",
              "      <td>...</td>\n",
              "      <td>...</td>\n",
              "      <td>...</td>\n",
              "    </tr>\n",
              "    <tr>\n",
              "      <th>609</th>\n",
              "      <td>LP002978</td>\n",
              "      <td>Female</td>\n",
              "      <td>No</td>\n",
              "      <td>0</td>\n",
              "      <td>Graduate</td>\n",
              "      <td>No</td>\n",
              "      <td>2900</td>\n",
              "      <td>0.0</td>\n",
              "      <td>71.0</td>\n",
              "      <td>360.0</td>\n",
              "      <td>1.0</td>\n",
              "      <td>Rural</td>\n",
              "      <td>Y</td>\n",
              "    </tr>\n",
              "    <tr>\n",
              "      <th>610</th>\n",
              "      <td>LP002979</td>\n",
              "      <td>Male</td>\n",
              "      <td>Yes</td>\n",
              "      <td>3+</td>\n",
              "      <td>Graduate</td>\n",
              "      <td>No</td>\n",
              "      <td>4106</td>\n",
              "      <td>0.0</td>\n",
              "      <td>40.0</td>\n",
              "      <td>180.0</td>\n",
              "      <td>1.0</td>\n",
              "      <td>Rural</td>\n",
              "      <td>Y</td>\n",
              "    </tr>\n",
              "    <tr>\n",
              "      <th>611</th>\n",
              "      <td>LP002983</td>\n",
              "      <td>Male</td>\n",
              "      <td>Yes</td>\n",
              "      <td>1</td>\n",
              "      <td>Graduate</td>\n",
              "      <td>No</td>\n",
              "      <td>8072</td>\n",
              "      <td>240.0</td>\n",
              "      <td>253.0</td>\n",
              "      <td>360.0</td>\n",
              "      <td>1.0</td>\n",
              "      <td>Urban</td>\n",
              "      <td>Y</td>\n",
              "    </tr>\n",
              "    <tr>\n",
              "      <th>612</th>\n",
              "      <td>LP002984</td>\n",
              "      <td>Male</td>\n",
              "      <td>Yes</td>\n",
              "      <td>2</td>\n",
              "      <td>Graduate</td>\n",
              "      <td>No</td>\n",
              "      <td>7583</td>\n",
              "      <td>0.0</td>\n",
              "      <td>187.0</td>\n",
              "      <td>360.0</td>\n",
              "      <td>1.0</td>\n",
              "      <td>Urban</td>\n",
              "      <td>Y</td>\n",
              "    </tr>\n",
              "    <tr>\n",
              "      <th>613</th>\n",
              "      <td>LP002990</td>\n",
              "      <td>Female</td>\n",
              "      <td>No</td>\n",
              "      <td>0</td>\n",
              "      <td>Graduate</td>\n",
              "      <td>Yes</td>\n",
              "      <td>4583</td>\n",
              "      <td>0.0</td>\n",
              "      <td>133.0</td>\n",
              "      <td>360.0</td>\n",
              "      <td>0.0</td>\n",
              "      <td>Semiurban</td>\n",
              "      <td>N</td>\n",
              "    </tr>\n",
              "  </tbody>\n",
              "</table>\n",
              "<p>614 rows × 13 columns</p>\n",
              "</div>\n",
              "      <button class=\"colab-df-convert\" onclick=\"convertToInteractive('df-19d9c81b-dcf2-4484-a28b-711473c50c67')\"\n",
              "              title=\"Convert this dataframe to an interactive table.\"\n",
              "              style=\"display:none;\">\n",
              "        \n",
              "  <svg xmlns=\"http://www.w3.org/2000/svg\" height=\"24px\"viewBox=\"0 0 24 24\"\n",
              "       width=\"24px\">\n",
              "    <path d=\"M0 0h24v24H0V0z\" fill=\"none\"/>\n",
              "    <path d=\"M18.56 5.44l.94 2.06.94-2.06 2.06-.94-2.06-.94-.94-2.06-.94 2.06-2.06.94zm-11 1L8.5 8.5l.94-2.06 2.06-.94-2.06-.94L8.5 2.5l-.94 2.06-2.06.94zm10 10l.94 2.06.94-2.06 2.06-.94-2.06-.94-.94-2.06-.94 2.06-2.06.94z\"/><path d=\"M17.41 7.96l-1.37-1.37c-.4-.4-.92-.59-1.43-.59-.52 0-1.04.2-1.43.59L10.3 9.45l-7.72 7.72c-.78.78-.78 2.05 0 2.83L4 21.41c.39.39.9.59 1.41.59.51 0 1.02-.2 1.41-.59l7.78-7.78 2.81-2.81c.8-.78.8-2.07 0-2.86zM5.41 20L4 18.59l7.72-7.72 1.47 1.35L5.41 20z\"/>\n",
              "  </svg>\n",
              "      </button>\n",
              "      \n",
              "  <style>\n",
              "    .colab-df-container {\n",
              "      display:flex;\n",
              "      flex-wrap:wrap;\n",
              "      gap: 12px;\n",
              "    }\n",
              "\n",
              "    .colab-df-convert {\n",
              "      background-color: #E8F0FE;\n",
              "      border: none;\n",
              "      border-radius: 50%;\n",
              "      cursor: pointer;\n",
              "      display: none;\n",
              "      fill: #1967D2;\n",
              "      height: 32px;\n",
              "      padding: 0 0 0 0;\n",
              "      width: 32px;\n",
              "    }\n",
              "\n",
              "    .colab-df-convert:hover {\n",
              "      background-color: #E2EBFA;\n",
              "      box-shadow: 0px 1px 2px rgba(60, 64, 67, 0.3), 0px 1px 3px 1px rgba(60, 64, 67, 0.15);\n",
              "      fill: #174EA6;\n",
              "    }\n",
              "\n",
              "    [theme=dark] .colab-df-convert {\n",
              "      background-color: #3B4455;\n",
              "      fill: #D2E3FC;\n",
              "    }\n",
              "\n",
              "    [theme=dark] .colab-df-convert:hover {\n",
              "      background-color: #434B5C;\n",
              "      box-shadow: 0px 1px 3px 1px rgba(0, 0, 0, 0.15);\n",
              "      filter: drop-shadow(0px 1px 2px rgba(0, 0, 0, 0.3));\n",
              "      fill: #FFFFFF;\n",
              "    }\n",
              "  </style>\n",
              "\n",
              "      <script>\n",
              "        const buttonEl =\n",
              "          document.querySelector('#df-19d9c81b-dcf2-4484-a28b-711473c50c67 button.colab-df-convert');\n",
              "        buttonEl.style.display =\n",
              "          google.colab.kernel.accessAllowed ? 'block' : 'none';\n",
              "\n",
              "        async function convertToInteractive(key) {\n",
              "          const element = document.querySelector('#df-19d9c81b-dcf2-4484-a28b-711473c50c67');\n",
              "          const dataTable =\n",
              "            await google.colab.kernel.invokeFunction('convertToInteractive',\n",
              "                                                     [key], {});\n",
              "          if (!dataTable) return;\n",
              "\n",
              "          const docLinkHtml = 'Like what you see? Visit the ' +\n",
              "            '<a target=\"_blank\" href=https://colab.research.google.com/notebooks/data_table.ipynb>data table notebook</a>'\n",
              "            + ' to learn more about interactive tables.';\n",
              "          element.innerHTML = '';\n",
              "          dataTable['output_type'] = 'display_data';\n",
              "          await google.colab.output.renderOutput(dataTable, element);\n",
              "          const docLink = document.createElement('div');\n",
              "          docLink.innerHTML = docLinkHtml;\n",
              "          element.appendChild(docLink);\n",
              "        }\n",
              "      </script>\n",
              "    </div>\n",
              "  </div>\n",
              "  "
            ]
          },
          "metadata": {},
          "execution_count": 2
        }
      ],
      "source": [
        "data = pd.read_csv(\"loan_approval_data.csv\")\n",
        "data"
      ]
    },
    {
      "cell_type": "markdown",
      "id": "01aba387-eb50-4a68-b4ad-9c2d73ff151b",
      "metadata": {
        "id": "01aba387-eb50-4a68-b4ad-9c2d73ff151b"
      },
      "source": [
        "Let's take a closer look at the categorical variables so we can figure out what we need to re-encode later on. "
      ]
    },
    {
      "cell_type": "code",
      "execution_count": 3,
      "id": "461084ac-289b-48e4-bf52-c980a278897b",
      "metadata": {
        "colab": {
          "base_uri": "https://localhost:8080/"
        },
        "id": "461084ac-289b-48e4-bf52-c980a278897b",
        "outputId": "f0161bed-2c18-4e31-c8f1-233a68d4be25"
      },
      "outputs": [
        {
          "output_type": "stream",
          "name": "stdout",
          "text": [
            "['Male' 'Female' nan]\n",
            "['No' 'Yes' nan]\n",
            "['Graduate' 'Not Graduate']\n",
            "['No' 'Yes' nan]\n",
            "['Urban' 'Rural' 'Semiurban']\n",
            "['Y' 'N']\n",
            "['0' '1' '2' '3+' nan]\n",
            "[ 1.  0. nan]\n"
          ]
        }
      ],
      "source": [
        "# recognizing all the categorical variables \n",
        "cat_vars = [\"Gender\", \"Married\", \"Education\", \"Self_Employed\", \"Property_Area\", \"Loan_Status\", \"Dependents\", \"Credit_History\"] \n",
        "\n",
        "# checking number of unique values for each categorial variable \n",
        "for var in cat_vars: \n",
        "    print(data[var].unique())"
      ]
    },
    {
      "cell_type": "markdown",
      "id": "0e9a900d-c2d6-494c-830a-f97f1b1a1d5b",
      "metadata": {
        "id": "0e9a900d-c2d6-494c-830a-f97f1b1a1d5b"
      },
      "source": [
        "We don't need the LoanID column, so we can drop it."
      ]
    },
    {
      "cell_type": "code",
      "execution_count": 4,
      "id": "1b5a08eb-e334-4237-87aa-c0e46cf8cb8d",
      "metadata": {
        "id": "1b5a08eb-e334-4237-87aa-c0e46cf8cb8d"
      },
      "outputs": [],
      "source": [
        "data = data.drop(['Loan_ID'], axis=1)"
      ]
    },
    {
      "cell_type": "markdown",
      "id": "8eda1c33-3046-4024-8881-eb7e9c7de34e",
      "metadata": {
        "id": "8eda1c33-3046-4024-8881-eb7e9c7de34e"
      },
      "source": [
        "## Exploratory Data Analysis"
      ]
    },
    {
      "cell_type": "markdown",
      "id": "f04fe1a5-d1df-4af2-acac-a2e8977d088b",
      "metadata": {
        "id": "f04fe1a5-d1df-4af2-acac-a2e8977d088b"
      },
      "source": [
        "We will generate plots for each column/variable. We will use histograms for categorical variables and violin plots for quantitative variables. "
      ]
    },
    {
      "cell_type": "code",
      "execution_count": 5,
      "id": "90334af1-6f94-4fac-b929-17cdbe8e47a2",
      "metadata": {
        "colab": {
          "base_uri": "https://localhost:8080/",
          "height": 1000
        },
        "id": "90334af1-6f94-4fac-b929-17cdbe8e47a2",
        "outputId": "3f588789-0358-41ea-ef01-d58a78fa0480"
      },
      "outputs": [
        {
          "output_type": "display_data",
          "data": {
            "text/plain": [
              "<Figure size 432x288 with 1 Axes>"
            ],
            "image/png": "[encoded data removed]"
          },
          "metadata": {
            "needs_background": "light"
          }
        },
        {
          "output_type": "display_data",
          "data": {
            "text/plain": [
              "<Figure size 432x288 with 1 Axes>"
            ],
            "image/png": "[encoded data removed]"
          },
          "metadata": {
            "needs_background": "light"
          }
        },
        {
          "output_type": "display_data",
          "data": {
            "text/plain": [
              "<Figure size 432x288 with 1 Axes>"
            ],
            "image/png": "[encoded data removed]"
          },
          "metadata": {
            "needs_background": "light"
          }
        },
        {
          "output_type": "display_data",
          "data": {
            "text/plain": [
              "<Figure size 432x288 with 1 Axes>"
            ],
            "image/png": "[encoded data removed]"
          },
          "metadata": {
            "needs_background": "light"
          }
        },
        {
          "output_type": "display_data",
          "data": {
            "text/plain": [
              "<Figure size 432x288 with 1 Axes>"
            ],
            "image/png": "[encoded data removed]"
          },
          "metadata": {
            "needs_background": "light"
          }
        },
        {
          "output_type": "display_data",
          "data": {
            "text/plain": [
              "<Figure size 432x288 with 1 Axes>"
            ],
            "image/png": "[encoded data removed]"
          },
          "metadata": {
            "needs_background": "light"
          }
        },
        {
          "output_type": "display_data",
          "data": {
            "text/plain": [
              "<Figure size 432x288 with 1 Axes>"
            ],
            "image/png": "[encoded data removed]"
          },
          "metadata": {
            "needs_background": "light"
          }
        },
        {
          "output_type": "display_data",
          "data": {
            "text/plain": [
              "<Figure size 432x288 with 1 Axes>"
            ],
            "image/png": "[encoded data removed]"
          },
          "metadata": {
            "needs_background": "light"
          }
        },
        {
          "output_type": "display_data",
          "data": {
            "text/plain": [
              "<Figure size 432x288 with 1 Axes>"
            ],
            "image/png": "[encoded data removed]"
          },
          "metadata": {
            "needs_background": "light"
          }
        },
        {
          "output_type": "display_data",
          "data": {
            "text/plain": [
              "<Figure size 432x288 with 1 Axes>"
            ],
            "image/png": "[encoded data removed]"
          },
          "metadata": {
            "needs_background": "light"
          }
        },
        {
          "output_type": "display_data",
          "data": {
            "text/plain": [
              "<Figure size 432x288 with 1 Axes>"
            ],
            "image/png": "[encoded data removed]"
          },
          "metadata": {
            "needs_background": "light"
          }
        },
        {
          "output_type": "display_data",
          "data": {
            "text/plain": [
              "<Figure size 432x288 with 1 Axes>"
            ],
            "image/png": "[encoded data removed]"
          },
          "metadata": {
            "needs_background": "light"
          }
        }
      ],
      "source": [
        "for col in data.columns:\n",
        "    if len(data[col].value_counts()) < 10:\n",
        "        #sns.histplot(data=data, x=col, hue = \"Loan_Status\")\n",
        "        sns.histplot(\n",
        "            data,\n",
        "            x=col,\n",
        "            # Use the value variable here to turn histogram counts into weighted\n",
        "            # values.\n",
        "            hue='Loan_Status',\n",
        "            multiple='stack',\n",
        "            # Add white borders to the bars.\n",
        "            edgecolor='white',\n",
        "            # Shrink the bars a bit so they don't touch.\n",
        "            shrink=0.8\n",
        "        )\n",
        "    else:\n",
        "        sns.violinplot(data=data, x=col, color = 'green')\n",
        "    plt.show()"
      ]
    },
    {
      "cell_type": "markdown",
      "id": "78525e1a-87f9-4cb5-83f2-bfe94c59e759",
      "metadata": {
        "id": "78525e1a-87f9-4cb5-83f2-bfe94c59e759"
      },
      "source": [
        "Some observations from the visual interpretation of the graphs\n",
        "- More male applicants than female applicants\n",
        "- More married applicants than unmarried, though the gap is not as wide as female vs male applicants\n",
        "- More graduates than non-graduates\n",
        "- Most applicants have 0 dependents\n",
        "- More non-self employed applicants than self-employed applicants\n",
        "- The most common loan amount term is 30 years by alot, the second most common being 15 years\n",
        "- Pretty even distribution of property areas, with the most frequent being semiurban, then urban, and then rural\n",
        "- Loan amount and applicant amounts are heavily right-skewed\n",
        "- Alot of coapplicants have 0 income\n",
        "\n",
        "Some charts like the loan amounts and applicant incomes are heavily right skewed, and contain outliers. Let's redo these charts after removing the outliers"
      ]
    },
    {
      "cell_type": "markdown",
      "id": "9724b52d-b38f-40e7-9c0c-744025bf77f5",
      "metadata": {
        "id": "9724b52d-b38f-40e7-9c0c-744025bf77f5"
      },
      "source": [
        "Below are the applicants with an applicant income of over 30000. As you can see, there are only a few applicants that are in this range. "
      ]
    },
    {
      "cell_type": "code",
      "execution_count": 6,
      "id": "b12cecab-f3ff-4def-808a-ed7da0fb2bb9",
      "metadata": {
        "colab": {
          "base_uri": "https://localhost:8080/",
          "height": 333
        },
        "id": "b12cecab-f3ff-4def-808a-ed7da0fb2bb9",
        "outputId": "1efb92f5-8ed5-4cf9-a9f9-2ff45be15154"
      },
      "outputs": [
        {
          "output_type": "execute_result",
          "data": {
            "text/plain": [
              "    Gender Married Dependents Education Self_Employed  ApplicantIncome  \\\n",
              "155   Male     Yes         3+  Graduate            No            39999   \n",
              "171    NaN     Yes         3+  Graduate            No            51763   \n",
              "183   Male     Yes          1  Graduate            No            33846   \n",
              "185   Male     Yes          0  Graduate           Yes            39147   \n",
              "333   Male     Yes          0  Graduate           NaN            63337   \n",
              "409   Male     Yes         3+  Graduate            No            81000   \n",
              "443   Male      No          1  Graduate            No            37719   \n",
              "\n",
              "     CoapplicantIncome  LoanAmount  Loan_Amount_Term  Credit_History  \\\n",
              "155                0.0       600.0             180.0             0.0   \n",
              "171                0.0       700.0             300.0             1.0   \n",
              "183                0.0       260.0             360.0             1.0   \n",
              "185             4750.0       120.0             360.0             1.0   \n",
              "333                0.0       490.0             180.0             1.0   \n",
              "409                0.0       360.0             360.0             0.0   \n",
              "443                0.0       152.0             360.0             1.0   \n",
              "\n",
              "    Property_Area Loan_Status  \n",
              "155     Semiurban           Y  \n",
              "171         Urban           Y  \n",
              "183     Semiurban           N  \n",
              "185     Semiurban           Y  \n",
              "333         Urban           Y  \n",
              "409         Rural           N  \n",
              "443     Semiurban           Y  "
            ],
            "text/html": [
              "\n",
              "  <div id=\"df-31e6b85a-903c-4627-92cc-d729fbcdb179\">\n",
              "    <div class=\"colab-df-container\">\n",
              "      <div>\n",
              "<style scoped>\n",
              "    .dataframe tbody tr th:only-of-type {\n",
              "        vertical-align: middle;\n",
              "    }\n",
              "\n",
              "    .dataframe tbody tr th {\n",
              "        vertical-align: top;\n",
              "    }\n",
              "\n",
              "    .dataframe thead th {\n",
              "        text-align: right;\n",
              "    }\n",
              "</style>\n",
              "<table border=\"1\" class=\"dataframe\">\n",
              "  <thead>\n",
              "    <tr style=\"text-align: right;\">\n",
              "      <th></th>\n",
              "      <th>Gender</th>\n",
              "      <th>Married</th>\n",
              "      <th>Dependents</th>\n",
              "      <th>Education</th>\n",
              "      <th>Self_Employed</th>\n",
              "      <th>ApplicantIncome</th>\n",
              "      <th>CoapplicantIncome</th>\n",
              "      <th>LoanAmount</th>\n",
              "      <th>Loan_Amount_Term</th>\n",
              "      <th>Credit_History</th>\n",
              "      <th>Property_Area</th>\n",
              "      <th>Loan_Status</th>\n",
              "    </tr>\n",
              "  </thead>\n",
              "  <tbody>\n",
              "    <tr>\n",
              "      <th>155</th>\n",
              "      <td>Male</td>\n",
              "      <td>Yes</td>\n",
              "      <td>3+</td>\n",
              "      <td>Graduate</td>\n",
              "      <td>No</td>\n",
              "      <td>39999</td>\n",
              "      <td>0.0</td>\n",
              "      <td>600.0</td>\n",
              "      <td>180.0</td>\n",
              "      <td>0.0</td>\n",
              "      <td>Semiurban</td>\n",
              "      <td>Y</td>\n",
              "    </tr>\n",
              "    <tr>\n",
              "      <th>171</th>\n",
              "      <td>NaN</td>\n",
              "      <td>Yes</td>\n",
              "      <td>3+</td>\n",
              "      <td>Graduate</td>\n",
              "      <td>No</td>\n",
              "      <td>51763</td>\n",
              "      <td>0.0</td>\n",
              "      <td>700.0</td>\n",
              "      <td>300.0</td>\n",
              "      <td>1.0</td>\n",
              "      <td>Urban</td>\n",
              "      <td>Y</td>\n",
              "    </tr>\n",
              "    <tr>\n",
              "      <th>183</th>\n",
              "      <td>Male</td>\n",
              "      <td>Yes</td>\n",
              "      <td>1</td>\n",
              "      <td>Graduate</td>\n",
              "      <td>No</td>\n",
              "      <td>33846</td>\n",
              "      <td>0.0</td>\n",
              "      <td>260.0</td>\n",
              "      <td>360.0</td>\n",
              "      <td>1.0</td>\n",
              "      <td>Semiurban</td>\n",
              "      <td>N</td>\n",
              "    </tr>\n",
              "    <tr>\n",
              "      <th>185</th>\n",
              "      <td>Male</td>\n",
              "      <td>Yes</td>\n",
              "      <td>0</td>\n",
              "      <td>Graduate</td>\n",
              "      <td>Yes</td>\n",
              "      <td>39147</td>\n",
              "      <td>4750.0</td>\n",
              "      <td>120.0</td>\n",
              "      <td>360.0</td>\n",
              "      <td>1.0</td>\n",
              "      <td>Semiurban</td>\n",
              "      <td>Y</td>\n",
              "    </tr>\n",
              "    <tr>\n",
              "      <th>333</th>\n",
              "      <td>Male</td>\n",
              "      <td>Yes</td>\n",
              "      <td>0</td>\n",
              "      <td>Graduate</td>\n",
              "      <td>NaN</td>\n",
              "      <td>63337</td>\n",
              "      <td>0.0</td>\n",
              "      <td>490.0</td>\n",
              "      <td>180.0</td>\n",
              "      <td>1.0</td>\n",
              "      <td>Urban</td>\n",
              "      <td>Y</td>\n",
              "    </tr>\n",
              "    <tr>\n",
              "      <th>409</th>\n",
              "      <td>Male</td>\n",
              "      <td>Yes</td>\n",
              "      <td>3+</td>\n",
              "      <td>Graduate</td>\n",
              "      <td>No</td>\n",
              "      <td>81000</td>\n",
              "      <td>0.0</td>\n",
              "      <td>360.0</td>\n",
              "      <td>360.0</td>\n",
              "      <td>0.0</td>\n",
              "      <td>Rural</td>\n",
              "      <td>N</td>\n",
              "    </tr>\n",
              "    <tr>\n",
              "      <th>443</th>\n",
              "      <td>Male</td>\n",
              "      <td>No</td>\n",
              "      <td>1</td>\n",
              "      <td>Graduate</td>\n",
              "      <td>No</td>\n",
              "      <td>37719</td>\n",
              "      <td>0.0</td>\n",
              "      <td>152.0</td>\n",
              "      <td>360.0</td>\n",
              "      <td>1.0</td>\n",
              "      <td>Semiurban</td>\n",
              "      <td>Y</td>\n",
              "    </tr>\n",
              "  </tbody>\n",
              "</table>\n",
              "</div>\n",
              "      <button class=\"colab-df-convert\" onclick=\"convertToInteractive('df-31e6b85a-903c-4627-92cc-d729fbcdb179')\"\n",
              "              title=\"Convert this dataframe to an interactive table.\"\n",
              "              style=\"display:none;\">\n",
              "        \n",
              "  <svg xmlns=\"http://www.w3.org/2000/svg\" height=\"24px\"viewBox=\"0 0 24 24\"\n",
              "       width=\"24px\">\n",
              "    <path d=\"M0 0h24v24H0V0z\" fill=\"none\"/>\n",
              "    <path d=\"M18.56 5.44l.94 2.06.94-2.06 2.06-.94-2.06-.94-.94-2.06-.94 2.06-2.06.94zm-11 1L8.5 8.5l.94-2.06 2.06-.94-2.06-.94L8.5 2.5l-.94 2.06-2.06.94zm10 10l.94 2.06.94-2.06 2.06-.94-2.06-.94-.94-2.06-.94 2.06-2.06.94z\"/><path d=\"M17.41 7.96l-1.37-1.37c-.4-.4-.92-.59-1.43-.59-.52 0-1.04.2-1.43.59L10.3 9.45l-7.72 7.72c-.78.78-.78 2.05 0 2.83L4 21.41c.39.39.9.59 1.41.59.51 0 1.02-.2 1.41-.59l7.78-7.78 2.81-2.81c.8-.78.8-2.07 0-2.86zM5.41 20L4 18.59l7.72-7.72 1.47 1.35L5.41 20z\"/>\n",
              "  </svg>\n",
              "      </button>\n",
              "      \n",
              "  <style>\n",
              "    .colab-df-container {\n",
              "      display:flex;\n",
              "      flex-wrap:wrap;\n",
              "      gap: 12px;\n",
              "    }\n",
              "\n",
              "    .colab-df-convert {\n",
              "      background-color: #E8F0FE;\n",
              "      border: none;\n",
              "      border-radius: 50%;\n",
              "      cursor: pointer;\n",
              "      display: none;\n",
              "      fill: #1967D2;\n",
              "      height: 32px;\n",
              "      padding: 0 0 0 0;\n",
              "      width: 32px;\n",
              "    }\n",
              "\n",
              "    .colab-df-convert:hover {\n",
              "      background-color: #E2EBFA;\n",
              "      box-shadow: 0px 1px 2px rgba(60, 64, 67, 0.3), 0px 1px 3px 1px rgba(60, 64, 67, 0.15);\n",
              "      fill: #174EA6;\n",
              "    }\n",
              "\n",
              "    [theme=dark] .colab-df-convert {\n",
              "      background-color: #3B4455;\n",
              "      fill: #D2E3FC;\n",
              "    }\n",
              "\n",
              "    [theme=dark] .colab-df-convert:hover {\n",
              "      background-color: #434B5C;\n",
              "      box-shadow: 0px 1px 3px 1px rgba(0, 0, 0, 0.15);\n",
              "      filter: drop-shadow(0px 1px 2px rgba(0, 0, 0, 0.3));\n",
              "      fill: #FFFFFF;\n",
              "    }\n",
              "  </style>\n",
              "\n",
              "      <script>\n",
              "        const buttonEl =\n",
              "          document.querySelector('#df-31e6b85a-903c-4627-92cc-d729fbcdb179 button.colab-df-convert');\n",
              "        buttonEl.style.display =\n",
              "          google.colab.kernel.accessAllowed ? 'block' : 'none';\n",
              "\n",
              "        async function convertToInteractive(key) {\n",
              "          const element = document.querySelector('#df-31e6b85a-903c-4627-92cc-d729fbcdb179');\n",
              "          const dataTable =\n",
              "            await google.colab.kernel.invokeFunction('convertToInteractive',\n",
              "                                                     [key], {});\n",
              "          if (!dataTable) return;\n",
              "\n",
              "          const docLinkHtml = 'Like what you see? Visit the ' +\n",
              "            '<a target=\"_blank\" href=https://colab.research.google.com/notebooks/data_table.ipynb>data table notebook</a>'\n",
              "            + ' to learn more about interactive tables.';\n",
              "          element.innerHTML = '';\n",
              "          dataTable['output_type'] = 'display_data';\n",
              "          await google.colab.output.renderOutput(dataTable, element);\n",
              "          const docLink = document.createElement('div');\n",
              "          docLink.innerHTML = docLinkHtml;\n",
              "          element.appendChild(docLink);\n",
              "        }\n",
              "      </script>\n",
              "    </div>\n",
              "  </div>\n",
              "  "
            ]
          },
          "metadata": {},
          "execution_count": 6
        }
      ],
      "source": [
        "data.loc[data[\"ApplicantIncome\"] > 30000]"
      ]
    },
    {
      "cell_type": "markdown",
      "id": "a8f0b67c-82f1-4653-b271-91d3343974ae",
      "metadata": {
        "id": "a8f0b67c-82f1-4653-b271-91d3343974ae"
      },
      "source": [
        "Let's regenerate our violin plot excluding applicants with income over 30000."
      ]
    },
    {
      "cell_type": "code",
      "execution_count": 7,
      "id": "cbdb0e61-cb5c-45b4-8bea-96ee127b2928",
      "metadata": {
        "colab": {
          "base_uri": "https://localhost:8080/",
          "height": 297
        },
        "id": "cbdb0e61-cb5c-45b4-8bea-96ee127b2928",
        "outputId": "7b8fc8ea-1dbf-496d-bbad-1e8f8eaa0cd1"
      },
      "outputs": [
        {
          "output_type": "execute_result",
          "data": {
            "text/plain": [
              "<AxesSubplot:xlabel='ApplicantIncome'>"
            ]
          },
          "metadata": {},
          "execution_count": 7
        },
        {
          "output_type": "display_data",
          "data": {
            "text/plain": [
              "<Figure size 432x288 with 1 Axes>"
            ],
            "image/png": "[encoded data removed]"
          },
          "metadata": {
            "needs_background": "light"
          }
        }
      ],
      "source": [
        "sns.violinplot(data=data[data[\"ApplicantIncome\"] < 30000], x=\"ApplicantIncome\")"
      ]
    },
    {
      "cell_type": "markdown",
      "id": "dce1c871-a109-479f-863f-b4e7e6e487bb",
      "metadata": {
        "id": "dce1c871-a109-479f-863f-b4e7e6e487bb"
      },
      "source": [
        "Let's filter out applicants with a loan amount over 400. "
      ]
    },
    {
      "cell_type": "code",
      "execution_count": 8,
      "id": "887e1750-1003-481a-8a4f-e983bc2da078",
      "metadata": {
        "colab": {
          "base_uri": "https://localhost:8080/",
          "height": 552
        },
        "id": "887e1750-1003-481a-8a4f-e983bc2da078",
        "outputId": "cca88270-0f91-4e76-8cde-d8eec5e2d066"
      },
      "outputs": [
        {
          "output_type": "execute_result",
          "data": {
            "text/plain": [
              "     Gender Married Dependents Education Self_Employed  ApplicantIncome  \\\n",
              "130    Male      No          0  Graduate           Yes            20166   \n",
              "155    Male     Yes         3+  Graduate            No            39999   \n",
              "171     NaN     Yes         3+  Graduate            No            51763   \n",
              "177    Male     Yes         3+  Graduate            No             5516   \n",
              "278    Male     Yes          0  Graduate            No            14583   \n",
              "308    Male      No          0  Graduate            No            20233   \n",
              "333    Male     Yes          0  Graduate           NaN            63337   \n",
              "369    Male     Yes          0  Graduate            No            19730   \n",
              "432    Male      No          0  Graduate           NaN            12876   \n",
              "487    Male     Yes          1  Graduate            No            18333   \n",
              "506    Male     Yes          0  Graduate            No            20833   \n",
              "523    Male     Yes          2  Graduate           Yes             7948   \n",
              "561  Female     Yes          1  Graduate           Yes            19484   \n",
              "604  Female     Yes          1  Graduate            No            12000   \n",
              "\n",
              "     CoapplicantIncome  LoanAmount  Loan_Amount_Term  Credit_History  \\\n",
              "130                0.0       650.0             480.0             NaN   \n",
              "155                0.0       600.0             180.0             0.0   \n",
              "171                0.0       700.0             300.0             1.0   \n",
              "177            11300.0       495.0             360.0             0.0   \n",
              "278                0.0       436.0             360.0             1.0   \n",
              "308                0.0       480.0             360.0             1.0   \n",
              "333                0.0       490.0             180.0             1.0   \n",
              "369             5266.0       570.0             360.0             1.0   \n",
              "432                0.0       405.0             360.0             1.0   \n",
              "487                0.0       500.0             360.0             1.0   \n",
              "506             6667.0       480.0             360.0             NaN   \n",
              "523             7166.0       480.0             360.0             1.0   \n",
              "561                0.0       600.0             360.0             1.0   \n",
              "604                0.0       496.0             360.0             1.0   \n",
              "\n",
              "    Property_Area Loan_Status  \n",
              "130         Urban           Y  \n",
              "155     Semiurban           Y  \n",
              "171         Urban           Y  \n",
              "177     Semiurban           N  \n",
              "278     Semiurban           Y  \n",
              "308         Rural           N  \n",
              "333         Urban           Y  \n",
              "369         Rural           N  \n",
              "432     Semiurban           Y  \n",
              "487         Urban           N  \n",
              "506         Urban           Y  \n",
              "523         Rural           Y  \n",
              "561     Semiurban           Y  \n",
              "604     Semiurban           Y  "
            ],
            "text/html": [
              "\n",
              "  <div id=\"df-174799a0-2568-4be5-9f47-0d5a8ef07493\">\n",
              "    <div class=\"colab-df-container\">\n",
              "      <div>\n",
              "<style scoped>\n",
              "    .dataframe tbody tr th:only-of-type {\n",
              "        vertical-align: middle;\n",
              "    }\n",
              "\n",
              "    .dataframe tbody tr th {\n",
              "        vertical-align: top;\n",
              "    }\n",
              "\n",
              "    .dataframe thead th {\n",
              "        text-align: right;\n",
              "    }\n",
              "</style>\n",
              "<table border=\"1\" class=\"dataframe\">\n",
              "  <thead>\n",
              "    <tr style=\"text-align: right;\">\n",
              "      <th></th>\n",
              "      <th>Gender</th>\n",
              "      <th>Married</th>\n",
              "      <th>Dependents</th>\n",
              "      <th>Education</th>\n",
              "      <th>Self_Employed</th>\n",
              "      <th>ApplicantIncome</th>\n",
              "      <th>CoapplicantIncome</th>\n",
              "      <th>LoanAmount</th>\n",
              "      <th>Loan_Amount_Term</th>\n",
              "      <th>Credit_History</th>\n",
              "      <th>Property_Area</th>\n",
              "      <th>Loan_Status</th>\n",
              "    </tr>\n",
              "  </thead>\n",
              "  <tbody>\n",
              "    <tr>\n",
              "      <th>130</th>\n",
              "      <td>Male</td>\n",
              "      <td>No</td>\n",
              "      <td>0</td>\n",
              "      <td>Graduate</td>\n",
              "      <td>Yes</td>\n",
              "      <td>20166</td>\n",
              "      <td>0.0</td>\n",
              "      <td>650.0</td>\n",
              "      <td>480.0</td>\n",
              "      <td>NaN</td>\n",
              "      <td>Urban</td>\n",
              "      <td>Y</td>\n",
              "    </tr>\n",
              "    <tr>\n",
              "      <th>155</th>\n",
              "      <td>Male</td>\n",
              "      <td>Yes</td>\n",
              "      <td>3+</td>\n",
              "      <td>Graduate</td>\n",
              "      <td>No</td>\n",
              "      <td>39999</td>\n",
              "      <td>0.0</td>\n",
              "      <td>600.0</td>\n",
              "      <td>180.0</td>\n",
              "      <td>0.0</td>\n",
              "      <td>Semiurban</td>\n",
              "      <td>Y</td>\n",
              "    </tr>\n",
              "    <tr>\n",
              "      <th>171</th>\n",
              "      <td>NaN</td>\n",
              "      <td>Yes</td>\n",
              "      <td>3+</td>\n",
              "      <td>Graduate</td>\n",
              "      <td>No</td>\n",
              "      <td>51763</td>\n",
              "      <td>0.0</td>\n",
              "      <td>700.0</td>\n",
              "      <td>300.0</td>\n",
              "      <td>1.0</td>\n",
              "      <td>Urban</td>\n",
              "      <td>Y</td>\n",
              "    </tr>\n",
              "    <tr>\n",
              "      <th>177</th>\n",
              "      <td>Male</td>\n",
              "      <td>Yes</td>\n",
              "      <td>3+</td>\n",
              "      <td>Graduate</td>\n",
              "      <td>No</td>\n",
              "      <td>5516</td>\n",
              "      <td>11300.0</td>\n",
              "      <td>495.0</td>\n",
              "      <td>360.0</td>\n",
              "      <td>0.0</td>\n",
              "      <td>Semiurban</td>\n",
              "      <td>N</td>\n",
              "    </tr>\n",
              "    <tr>\n",
              "      <th>278</th>\n",
              "      <td>Male</td>\n",
              "      <td>Yes</td>\n",
              "      <td>0</td>\n",
              "      <td>Graduate</td>\n",
              "      <td>No</td>\n",
              "      <td>14583</td>\n",
              "      <td>0.0</td>\n",
              "      <td>436.0</td>\n",
              "      <td>360.0</td>\n",
              "      <td>1.0</td>\n",
              "      <td>Semiurban</td>\n",
              "      <td>Y</td>\n",
              "    </tr>\n",
              "    <tr>\n",
              "      <th>308</th>\n",
              "      <td>Male</td>\n",
              "      <td>No</td>\n",
              "      <td>0</td>\n",
              "      <td>Graduate</td>\n",
              "      <td>No</td>\n",
              "      <td>20233</td>\n",
              "      <td>0.0</td>\n",
              "      <td>480.0</td>\n",
              "      <td>360.0</td>\n",
              "      <td>1.0</td>\n",
              "      <td>Rural</td>\n",
              "      <td>N</td>\n",
              "    </tr>\n",
              "    <tr>\n",
              "      <th>333</th>\n",
              "      <td>Male</td>\n",
              "      <td>Yes</td>\n",
              "      <td>0</td>\n",
              "      <td>Graduate</td>\n",
              "      <td>NaN</td>\n",
              "      <td>63337</td>\n",
              "      <td>0.0</td>\n",
              "      <td>490.0</td>\n",
              "      <td>180.0</td>\n",
              "      <td>1.0</td>\n",
              "      <td>Urban</td>\n",
              "      <td>Y</td>\n",
              "    </tr>\n",
              "    <tr>\n",
              "      <th>369</th>\n",
              "      <td>Male</td>\n",
              "      <td>Yes</td>\n",
              "      <td>0</td>\n",
              "      <td>Graduate</td>\n",
              "      <td>No</td>\n",
              "      <td>19730</td>\n",
              "      <td>5266.0</td>\n",
              "      <td>570.0</td>\n",
              "      <td>360.0</td>\n",
              "      <td>1.0</td>\n",
              "      <td>Rural</td>\n",
              "      <td>N</td>\n",
              "    </tr>\n",
              "    <tr>\n",
              "      <th>432</th>\n",
              "      <td>Male</td>\n",
              "      <td>No</td>\n",
              "      <td>0</td>\n",
              "      <td>Graduate</td>\n",
              "      <td>NaN</td>\n",
              "      <td>12876</td>\n",
              "      <td>0.0</td>\n",
              "      <td>405.0</td>\n",
              "      <td>360.0</td>\n",
              "      <td>1.0</td>\n",
              "      <td>Semiurban</td>\n",
              "      <td>Y</td>\n",
              "    </tr>\n",
              "    <tr>\n",
              "      <th>487</th>\n",
              "      <td>Male</td>\n",
              "      <td>Yes</td>\n",
              "      <td>1</td>\n",
              "      <td>Graduate</td>\n",
              "      <td>No</td>\n",
              "      <td>18333</td>\n",
              "      <td>0.0</td>\n",
              "      <td>500.0</td>\n",
              "      <td>360.0</td>\n",
              "      <td>1.0</td>\n",
              "      <td>Urban</td>\n",
              "      <td>N</td>\n",
              "    </tr>\n",
              "    <tr>\n",
              "      <th>506</th>\n",
              "      <td>Male</td>\n",
              "      <td>Yes</td>\n",
              "      <td>0</td>\n",
              "      <td>Graduate</td>\n",
              "      <td>No</td>\n",
              "      <td>20833</td>\n",
              "      <td>6667.0</td>\n",
              "      <td>480.0</td>\n",
              "      <td>360.0</td>\n",
              "      <td>NaN</td>\n",
              "      <td>Urban</td>\n",
              "      <td>Y</td>\n",
              "    </tr>\n",
              "    <tr>\n",
              "      <th>523</th>\n",
              "      <td>Male</td>\n",
              "      <td>Yes</td>\n",
              "      <td>2</td>\n",
              "      <td>Graduate</td>\n",
              "      <td>Yes</td>\n",
              "      <td>7948</td>\n",
              "      <td>7166.0</td>\n",
              "      <td>480.0</td>\n",
              "      <td>360.0</td>\n",
              "      <td>1.0</td>\n",
              "      <td>Rural</td>\n",
              "      <td>Y</td>\n",
              "    </tr>\n",
              "    <tr>\n",
              "      <th>561</th>\n",
              "      <td>Female</td>\n",
              "      <td>Yes</td>\n",
              "      <td>1</td>\n",
              "      <td>Graduate</td>\n",
              "      <td>Yes</td>\n",
              "      <td>19484</td>\n",
              "      <td>0.0</td>\n",
              "      <td>600.0</td>\n",
              "      <td>360.0</td>\n",
              "      <td>1.0</td>\n",
              "      <td>Semiurban</td>\n",
              "      <td>Y</td>\n",
              "    </tr>\n",
              "    <tr>\n",
              "      <th>604</th>\n",
              "      <td>Female</td>\n",
              "      <td>Yes</td>\n",
              "      <td>1</td>\n",
              "      <td>Graduate</td>\n",
              "      <td>No</td>\n",
              "      <td>12000</td>\n",
              "      <td>0.0</td>\n",
              "      <td>496.0</td>\n",
              "      <td>360.0</td>\n",
              "      <td>1.0</td>\n",
              "      <td>Semiurban</td>\n",
              "      <td>Y</td>\n",
              "    </tr>\n",
              "  </tbody>\n",
              "</table>\n",
              "</div>\n",
              "      <button class=\"colab-df-convert\" onclick=\"convertToInteractive('df-174799a0-2568-4be5-9f47-0d5a8ef07493')\"\n",
              "              title=\"Convert this dataframe to an interactive table.\"\n",
              "              style=\"display:none;\">\n",
              "        \n",
              "  <svg xmlns=\"http://www.w3.org/2000/svg\" height=\"24px\"viewBox=\"0 0 24 24\"\n",
              "       width=\"24px\">\n",
              "    <path d=\"M0 0h24v24H0V0z\" fill=\"none\"/>\n",
              "    <path d=\"M18.56 5.44l.94 2.06.94-2.06 2.06-.94-2.06-.94-.94-2.06-.94 2.06-2.06.94zm-11 1L8.5 8.5l.94-2.06 2.06-.94-2.06-.94L8.5 2.5l-.94 2.06-2.06.94zm10 10l.94 2.06.94-2.06 2.06-.94-2.06-.94-.94-2.06-.94 2.06-2.06.94z\"/><path d=\"M17.41 7.96l-1.37-1.37c-.4-.4-.92-.59-1.43-.59-.52 0-1.04.2-1.43.59L10.3 9.45l-7.72 7.72c-.78.78-.78 2.05 0 2.83L4 21.41c.39.39.9.59 1.41.59.51 0 1.02-.2 1.41-.59l7.78-7.78 2.81-2.81c.8-.78.8-2.07 0-2.86zM5.41 20L4 18.59l7.72-7.72 1.47 1.35L5.41 20z\"/>\n",
              "  </svg>\n",
              "      </button>\n",
              "      \n",
              "  <style>\n",
              "    .colab-df-container {\n",
              "      display:flex;\n",
              "      flex-wrap:wrap;\n",
              "      gap: 12px;\n",
              "    }\n",
              "\n",
              "    .colab-df-convert {\n",
              "      background-color: #E8F0FE;\n",
              "      border: none;\n",
              "      border-radius: 50%;\n",
              "      cursor: pointer;\n",
              "      display: none;\n",
              "      fill: #1967D2;\n",
              "      height: 32px;\n",
              "      padding: 0 0 0 0;\n",
              "      width: 32px;\n",
              "    }\n",
              "\n",
              "    .colab-df-convert:hover {\n",
              "      background-color: #E2EBFA;\n",
              "      box-shadow: 0px 1px 2px rgba(60, 64, 67, 0.3), 0px 1px 3px 1px rgba(60, 64, 67, 0.15);\n",
              "      fill: #174EA6;\n",
              "    }\n",
              "\n",
              "    [theme=dark] .colab-df-convert {\n",
              "      background-color: #3B4455;\n",
              "      fill: #D2E3FC;\n",
              "    }\n",
              "\n",
              "    [theme=dark] .colab-df-convert:hover {\n",
              "      background-color: #434B5C;\n",
              "      box-shadow: 0px 1px 3px 1px rgba(0, 0, 0, 0.15);\n",
              "      filter: drop-shadow(0px 1px 2px rgba(0, 0, 0, 0.3));\n",
              "      fill: #FFFFFF;\n",
              "    }\n",
              "  </style>\n",
              "\n",
              "      <script>\n",
              "        const buttonEl =\n",
              "          document.querySelector('#df-174799a0-2568-4be5-9f47-0d5a8ef07493 button.colab-df-convert');\n",
              "        buttonEl.style.display =\n",
              "          google.colab.kernel.accessAllowed ? 'block' : 'none';\n",
              "\n",
              "        async function convertToInteractive(key) {\n",
              "          const element = document.querySelector('#df-174799a0-2568-4be5-9f47-0d5a8ef07493');\n",
              "          const dataTable =\n",
              "            await google.colab.kernel.invokeFunction('convertToInteractive',\n",
              "                                                     [key], {});\n",
              "          if (!dataTable) return;\n",
              "\n",
              "          const docLinkHtml = 'Like what you see? Visit the ' +\n",
              "            '<a target=\"_blank\" href=https://colab.research.google.com/notebooks/data_table.ipynb>data table notebook</a>'\n",
              "            + ' to learn more about interactive tables.';\n",
              "          element.innerHTML = '';\n",
              "          dataTable['output_type'] = 'display_data';\n",
              "          await google.colab.output.renderOutput(dataTable, element);\n",
              "          const docLink = document.createElement('div');\n",
              "          docLink.innerHTML = docLinkHtml;\n",
              "          element.appendChild(docLink);\n",
              "        }\n",
              "      </script>\n",
              "    </div>\n",
              "  </div>\n",
              "  "
            ]
          },
          "metadata": {},
          "execution_count": 8
        }
      ],
      "source": [
        "data.loc[data[\"LoanAmount\"] > 400]"
      ]
    },
    {
      "cell_type": "code",
      "execution_count": 9,
      "id": "8f7bee42-73af-40f1-9b16-8d0ba5b3030f",
      "metadata": {
        "colab": {
          "base_uri": "https://localhost:8080/",
          "height": 297
        },
        "id": "8f7bee42-73af-40f1-9b16-8d0ba5b3030f",
        "outputId": "9dede52d-5168-43b4-acdc-29c9832bd203"
      },
      "outputs": [
        {
          "output_type": "execute_result",
          "data": {
            "text/plain": [
              "<AxesSubplot:xlabel='LoanAmount'>"
            ]
          },
          "metadata": {},
          "execution_count": 9
        },
        {
          "output_type": "display_data",
          "data": {
            "text/plain": [
              "<Figure size 432x288 with 1 Axes>"
            ],
            "image/png": "[encoded data removed]"
          },
          "metadata": {
            "needs_background": "light"
          }
        }
      ],
      "source": [
        "sns.violinplot(data=data[data[\"LoanAmount\"] < 400], x=\"LoanAmount\", color = 'green')"
      ]
    },
    {
      "cell_type": "markdown",
      "id": "7d23b0fc-26e8-48c3-9f0c-7d740bedb6c2",
      "metadata": {
        "id": "7d23b0fc-26e8-48c3-9f0c-7d740bedb6c2"
      },
      "source": [
        "Let's filter out applicants with coapplicant incomes over 10000."
      ]
    },
    {
      "cell_type": "code",
      "execution_count": 10,
      "id": "e7c5ff16-cb82-4ef7-805c-b77f0f455c75",
      "metadata": {
        "colab": {
          "base_uri": "https://localhost:8080/",
          "height": 302
        },
        "id": "e7c5ff16-cb82-4ef7-805c-b77f0f455c75",
        "outputId": "a4bfd761-678b-4970-f019-8aef4de7f8db"
      },
      "outputs": [
        {
          "output_type": "execute_result",
          "data": {
            "text/plain": [
              "     Gender Married Dependents Education Self_Employed  ApplicantIncome  \\\n",
              "9      Male     Yes          1  Graduate            No            12841   \n",
              "177    Male     Yes         3+  Graduate            No             5516   \n",
              "402    Male      No          0  Graduate            No             2500   \n",
              "417    Male     Yes          2  Graduate           Yes             1600   \n",
              "581    Male      No          0  Graduate            No             1836   \n",
              "600  Female      No         3+  Graduate           NaN              416   \n",
              "\n",
              "     CoapplicantIncome  LoanAmount  Loan_Amount_Term  Credit_History  \\\n",
              "9              10968.0       349.0             360.0             1.0   \n",
              "177            11300.0       495.0             360.0             0.0   \n",
              "402            20000.0       103.0             360.0             1.0   \n",
              "417            20000.0       239.0             360.0             1.0   \n",
              "581            33837.0        90.0             360.0             1.0   \n",
              "600            41667.0       350.0             180.0             NaN   \n",
              "\n",
              "    Property_Area Loan_Status  \n",
              "9       Semiurban           N  \n",
              "177     Semiurban           N  \n",
              "402     Semiurban           Y  \n",
              "417         Urban           N  \n",
              "581         Urban           N  \n",
              "600         Urban           N  "
            ],
            "text/html": [
              "\n",
              "  <div id=\"df-1c3423e8-4938-4754-a7e9-6afd90946139\">\n",
              "    <div class=\"colab-df-container\">\n",
              "      <div>\n",
              "<style scoped>\n",
              "    .dataframe tbody tr th:only-of-type {\n",
              "        vertical-align: middle;\n",
              "    }\n",
              "\n",
              "    .dataframe tbody tr th {\n",
              "        vertical-align: top;\n",
              "    }\n",
              "\n",
              "    .dataframe thead th {\n",
              "        text-align: right;\n",
              "    }\n",
              "</style>\n",
              "<table border=\"1\" class=\"dataframe\">\n",
              "  <thead>\n",
              "    <tr style=\"text-align: right;\">\n",
              "      <th></th>\n",
              "      <th>Gender</th>\n",
              "      <th>Married</th>\n",
              "      <th>Dependents</th>\n",
              "      <th>Education</th>\n",
              "      <th>Self_Employed</th>\n",
              "      <th>ApplicantIncome</th>\n",
              "      <th>CoapplicantIncome</th>\n",
              "      <th>LoanAmount</th>\n",
              "      <th>Loan_Amount_Term</th>\n",
              "      <th>Credit_History</th>\n",
              "      <th>Property_Area</th>\n",
              "      <th>Loan_Status</th>\n",
              "    </tr>\n",
              "  </thead>\n",
              "  <tbody>\n",
              "    <tr>\n",
              "      <th>9</th>\n",
              "      <td>Male</td>\n",
              "      <td>Yes</td>\n",
              "      <td>1</td>\n",
              "      <td>Graduate</td>\n",
              "      <td>No</td>\n",
              "      <td>12841</td>\n",
              "      <td>10968.0</td>\n",
              "      <td>349.0</td>\n",
              "      <td>360.0</td>\n",
              "      <td>1.0</td>\n",
              "      <td>Semiurban</td>\n",
              "      <td>N</td>\n",
              "    </tr>\n",
              "    <tr>\n",
              "      <th>177</th>\n",
              "      <td>Male</td>\n",
              "      <td>Yes</td>\n",
              "      <td>3+</td>\n",
              "      <td>Graduate</td>\n",
              "      <td>No</td>\n",
              "      <td>5516</td>\n",
              "      <td>11300.0</td>\n",
              "      <td>495.0</td>\n",
              "      <td>360.0</td>\n",
              "      <td>0.0</td>\n",
              "      <td>Semiurban</td>\n",
              "      <td>N</td>\n",
              "    </tr>\n",
              "    <tr>\n",
              "      <th>402</th>\n",
              "      <td>Male</td>\n",
              "      <td>No</td>\n",
              "      <td>0</td>\n",
              "      <td>Graduate</td>\n",
              "      <td>No</td>\n",
              "      <td>2500</td>\n",
              "      <td>20000.0</td>\n",
              "      <td>103.0</td>\n",
              "      <td>360.0</td>\n",
              "      <td>1.0</td>\n",
              "      <td>Semiurban</td>\n",
              "      <td>Y</td>\n",
              "    </tr>\n",
              "    <tr>\n",
              "      <th>417</th>\n",
              "      <td>Male</td>\n",
              "      <td>Yes</td>\n",
              "      <td>2</td>\n",
              "      <td>Graduate</td>\n",
              "      <td>Yes</td>\n",
              "      <td>1600</td>\n",
              "      <td>20000.0</td>\n",
              "      <td>239.0</td>\n",
              "      <td>360.0</td>\n",
              "      <td>1.0</td>\n",
              "      <td>Urban</td>\n",
              "      <td>N</td>\n",
              "    </tr>\n",
              "    <tr>\n",
              "      <th>581</th>\n",
              "      <td>Male</td>\n",
              "      <td>No</td>\n",
              "      <td>0</td>\n",
              "      <td>Graduate</td>\n",
              "      <td>No</td>\n",
              "      <td>1836</td>\n",
              "      <td>33837.0</td>\n",
              "      <td>90.0</td>\n",
              "      <td>360.0</td>\n",
              "      <td>1.0</td>\n",
              "      <td>Urban</td>\n",
              "      <td>N</td>\n",
              "    </tr>\n",
              "    <tr>\n",
              "      <th>600</th>\n",
              "      <td>Female</td>\n",
              "      <td>No</td>\n",
              "      <td>3+</td>\n",
              "      <td>Graduate</td>\n",
              "      <td>NaN</td>\n",
              "      <td>416</td>\n",
              "      <td>41667.0</td>\n",
              "      <td>350.0</td>\n",
              "      <td>180.0</td>\n",
              "      <td>NaN</td>\n",
              "      <td>Urban</td>\n",
              "      <td>N</td>\n",
              "    </tr>\n",
              "  </tbody>\n",
              "</table>\n",
              "</div>\n",
              "      <button class=\"colab-df-convert\" onclick=\"convertToInteractive('df-1c3423e8-4938-4754-a7e9-6afd90946139')\"\n",
              "              title=\"Convert this dataframe to an interactive table.\"\n",
              "              style=\"display:none;\">\n",
              "        \n",
              "  <svg xmlns=\"http://www.w3.org/2000/svg\" height=\"24px\"viewBox=\"0 0 24 24\"\n",
              "       width=\"24px\">\n",
              "    <path d=\"M0 0h24v24H0V0z\" fill=\"none\"/>\n",
              "    <path d=\"M18.56 5.44l.94 2.06.94-2.06 2.06-.94-2.06-.94-.94-2.06-.94 2.06-2.06.94zm-11 1L8.5 8.5l.94-2.06 2.06-.94-2.06-.94L8.5 2.5l-.94 2.06-2.06.94zm10 10l.94 2.06.94-2.06 2.06-.94-2.06-.94-.94-2.06-.94 2.06-2.06.94z\"/><path d=\"M17.41 7.96l-1.37-1.37c-.4-.4-.92-.59-1.43-.59-.52 0-1.04.2-1.43.59L10.3 9.45l-7.72 7.72c-.78.78-.78 2.05 0 2.83L4 21.41c.39.39.9.59 1.41.59.51 0 1.02-.2 1.41-.59l7.78-7.78 2.81-2.81c.8-.78.8-2.07 0-2.86zM5.41 20L4 18.59l7.72-7.72 1.47 1.35L5.41 20z\"/>\n",
              "  </svg>\n",
              "      </button>\n",
              "      \n",
              "  <style>\n",
              "    .colab-df-container {\n",
              "      display:flex;\n",
              "      flex-wrap:wrap;\n",
              "      gap: 12px;\n",
              "    }\n",
              "\n",
              "    .colab-df-convert {\n",
              "      background-color: #E8F0FE;\n",
              "      border: none;\n",
              "      border-radius: 50%;\n",
              "      cursor: pointer;\n",
              "      display: none;\n",
              "      fill: #1967D2;\n",
              "      height: 32px;\n",
              "      padding: 0 0 0 0;\n",
              "      width: 32px;\n",
              "    }\n",
              "\n",
              "    .colab-df-convert:hover {\n",
              "      background-color: #E2EBFA;\n",
              "      box-shadow: 0px 1px 2px rgba(60, 64, 67, 0.3), 0px 1px 3px 1px rgba(60, 64, 67, 0.15);\n",
              "      fill: #174EA6;\n",
              "    }\n",
              "\n",
              "    [theme=dark] .colab-df-convert {\n",
              "      background-color: #3B4455;\n",
              "      fill: #D2E3FC;\n",
              "    }\n",
              "\n",
              "    [theme=dark] .colab-df-convert:hover {\n",
              "      background-color: #434B5C;\n",
              "      box-shadow: 0px 1px 3px 1px rgba(0, 0, 0, 0.15);\n",
              "      filter: drop-shadow(0px 1px 2px rgba(0, 0, 0, 0.3));\n",
              "      fill: #FFFFFF;\n",
              "    }\n",
              "  </style>\n",
              "\n",
              "      <script>\n",
              "        const buttonEl =\n",
              "          document.querySelector('#df-1c3423e8-4938-4754-a7e9-6afd90946139 button.colab-df-convert');\n",
              "        buttonEl.style.display =\n",
              "          google.colab.kernel.accessAllowed ? 'block' : 'none';\n",
              "\n",
              "        async function convertToInteractive(key) {\n",
              "          const element = document.querySelector('#df-1c3423e8-4938-4754-a7e9-6afd90946139');\n",
              "          const dataTable =\n",
              "            await google.colab.kernel.invokeFunction('convertToInteractive',\n",
              "                                                     [key], {});\n",
              "          if (!dataTable) return;\n",
              "\n",
              "          const docLinkHtml = 'Like what you see? Visit the ' +\n",
              "            '<a target=\"_blank\" href=https://colab.research.google.com/notebooks/data_table.ipynb>data table notebook</a>'\n",
              "            + ' to learn more about interactive tables.';\n",
              "          element.innerHTML = '';\n",
              "          dataTable['output_type'] = 'display_data';\n",
              "          await google.colab.output.renderOutput(dataTable, element);\n",
              "          const docLink = document.createElement('div');\n",
              "          docLink.innerHTML = docLinkHtml;\n",
              "          element.appendChild(docLink);\n",
              "        }\n",
              "      </script>\n",
              "    </div>\n",
              "  </div>\n",
              "  "
            ]
          },
          "metadata": {},
          "execution_count": 10
        }
      ],
      "source": [
        "data.loc[data[\"CoapplicantIncome\"] > 10000]"
      ]
    },
    {
      "cell_type": "code",
      "execution_count": 11,
      "id": "092d7cf2-9f34-4e7c-ad6f-8125cfa40382",
      "metadata": {
        "colab": {
          "base_uri": "https://localhost:8080/",
          "height": 297
        },
        "id": "092d7cf2-9f34-4e7c-ad6f-8125cfa40382",
        "outputId": "8cb02b8a-a16b-4e27-ff8d-f7fb4b5899fd"
      },
      "outputs": [
        {
          "output_type": "execute_result",
          "data": {
            "text/plain": [
              "<AxesSubplot:xlabel='CoapplicantIncome'>"
            ]
          },
          "metadata": {},
          "execution_count": 11
        },
        {
          "output_type": "display_data",
          "data": {
            "text/plain": [
              "<Figure size 432x288 with 1 Axes>"
            ],
            "image/png": "[encoded data removed]"
          },
          "metadata": {
            "needs_background": "light"
          }
        }
      ],
      "source": [
        "sns.violinplot(data=data[data[\"CoapplicantIncome\"] < 10000], x=\"CoapplicantIncome\", color='red')"
      ]
    },
    {
      "cell_type": "markdown",
      "id": "f5341601-1ac3-463b-b203-fecd2fe644e4",
      "metadata": {
        "id": "f5341601-1ac3-463b-b203-fecd2fe644e4"
      },
      "source": [
        "Let's start looking at the relationships between two variables"
      ]
    },
    {
      "cell_type": "markdown",
      "id": "c5517c98-ca93-4005-8c45-3abcf5291df4",
      "metadata": {
        "id": "c5517c98-ca93-4005-8c45-3abcf5291df4"
      },
      "source": [
        "Below, we will compare the loan amount and applicant income. We will distinguish between applicants who got approved and applicants who did not get approved. Looking at the plot, we can see that generally applicants with high loan amounts and high applicant incomes get approved. "
      ]
    },
    {
      "cell_type": "code",
      "execution_count": 12,
      "id": "d48c2c18-8d9e-4917-9fc1-d473a7fbfe4a",
      "metadata": {
        "colab": {
          "base_uri": "https://localhost:8080/",
          "height": 297
        },
        "id": "d48c2c18-8d9e-4917-9fc1-d473a7fbfe4a",
        "outputId": "34851d98-9496-4e9a-d9de-73ca0df67689"
      },
      "outputs": [
        {
          "output_type": "execute_result",
          "data": {
            "text/plain": [
              "<AxesSubplot:xlabel='LoanAmount', ylabel='ApplicantIncome'>"
            ]
          },
          "metadata": {},
          "execution_count": 12
        },
        {
          "output_type": "display_data",
          "data": {
            "text/plain": [
              "<Figure size 432x288 with 1 Axes>"
            ],
            "image/png": "[encoded data removed]"
          },
          "metadata": {
            "needs_background": "light"
          }
        }
      ],
      "source": [
        "sns.scatterplot(y=\"ApplicantIncome\", x=\"LoanAmount\", data=data,  hue=\"Loan_Status\") "
      ]
    },
    {
      "cell_type": "markdown",
      "id": "1fc022ba-cf42-4b77-b28d-7e404a70d98c",
      "metadata": {
        "id": "1fc022ba-cf42-4b77-b28d-7e404a70d98c"
      },
      "source": [
        "Again, let's filter out some outliers. Let's filter out applicants who's applicant income is less than 7500. The data looks pretty random, so it's hard to see any trends visually."
      ]
    },
    {
      "cell_type": "code",
      "execution_count": 13,
      "id": "6a0b851f-13f4-45a0-9bd1-56798a40fa93",
      "metadata": {
        "colab": {
          "base_uri": "https://localhost:8080/",
          "height": 297
        },
        "id": "6a0b851f-13f4-45a0-9bd1-56798a40fa93",
        "outputId": "12f68403-65ac-4b96-860e-962b0bf2c562"
      },
      "outputs": [
        {
          "output_type": "execute_result",
          "data": {
            "text/plain": [
              "<AxesSubplot:xlabel='LoanAmount', ylabel='ApplicantIncome'>"
            ]
          },
          "metadata": {},
          "execution_count": 13
        },
        {
          "output_type": "display_data",
          "data": {
            "text/plain": [
              "<Figure size 432x288 with 1 Axes>"
            ],
            "image/png": "[encoded data removed]"
          },
          "metadata": {
            "needs_background": "light"
          }
        }
      ],
      "source": [
        "sns.scatterplot(y=\"ApplicantIncome\", x=\"LoanAmount\", data=data[data[\"ApplicantIncome\"] < 7500], hue=\"Loan_Status\") "
      ]
    },
    {
      "cell_type": "markdown",
      "id": "6d1187d2-f46f-443b-9c4b-5e3b62543e6d",
      "metadata": {
        "id": "6d1187d2-f46f-443b-9c4b-5e3b62543e6d"
      },
      "source": [
        "Let's add a regression line."
      ]
    },
    {
      "cell_type": "code",
      "execution_count": 14,
      "id": "bbe9ddba-2c6f-4dab-82c0-e637ac5bd1cd",
      "metadata": {
        "colab": {
          "base_uri": "https://localhost:8080/",
          "height": 279
        },
        "id": "bbe9ddba-2c6f-4dab-82c0-e637ac5bd1cd",
        "outputId": "02eb2625-e5ce-4236-f9c3-5bc8786abaff"
      },
      "outputs": [
        {
          "output_type": "display_data",
          "data": {
            "text/plain": [
              "<Figure size 432x288 with 1 Axes>"
            ],
            "image/png": "[encoded data removed]"
          },
          "metadata": {
            "needs_background": "light"
          }
        }
      ],
      "source": [
        "p = sns.regplot(y=\"ApplicantIncome\", x=\"LoanAmount\", data=data[data[\"ApplicantIncome\"] < 7500], line_kws={\"color\": \"red\"})\n",
        "\n",
        "x = p.get_lines()[0].get_xdata()\n",
        "y = p.get_lines()[0].get_ydata()"
      ]
    },
    {
      "cell_type": "code",
      "execution_count": 15,
      "id": "162cb3ad-470e-46d6-83a2-496a91dfc4d8",
      "metadata": {
        "colab": {
          "base_uri": "https://localhost:8080/"
        },
        "id": "162cb3ad-470e-46d6-83a2-496a91dfc4d8",
        "outputId": "2fbad08f-613a-4806-ff8c-c88f7b19c5f4"
      },
      "outputs": [
        {
          "output_type": "stream",
          "name": "stdout",
          "text": [
            "[ 9.         13.90909091 18.81818182 23.72727273 28.63636364]\n",
            "[2577.43518239 2625.43161249 2673.42804258 2721.42447268 2769.42090277]\n"
          ]
        }
      ],
      "source": [
        "print(x[:5])\n",
        "print(y[:5])"
      ]
    },
    {
      "cell_type": "code",
      "execution_count": 16,
      "id": "e02048e6-4b5c-4c32-b690-9ed0e5346f0b",
      "metadata": {
        "colab": {
          "base_uri": "https://localhost:8080/"
        },
        "id": "e02048e6-4b5c-4c32-b690-9ed0e5346f0b",
        "outputId": "aa5917ca-fe26-47d5-afcc-cbe98360e9bd"
      },
      "outputs": [
        {
          "output_type": "stream",
          "name": "stdout",
          "text": [
            "The correlation value is 9.777050574767632 and the y-intercept is 2489.441727222022\n"
          ]
        }
      ],
      "source": [
        "# slope of the regression line \n",
        "corr_val = (y[1] - y[0]) / (x[1] - x[0])\n",
        "# y-intercept of the regression line\n",
        "y_int = y[0] - (corr_val * x[0]) \n",
        "print(f\"The correlation value is {corr_val} and the y-intercept is {y_int}\")"
      ]
    },
    {
      "cell_type": "markdown",
      "id": "7b8873b7-d9bf-41cd-a117-2686daa301ce",
      "metadata": {
        "id": "7b8873b7-d9bf-41cd-a117-2686daa301ce"
      },
      "source": [
        "Applicant income represents monthly income in dollars, and loan amount represents the loan amount in thousands of dollars. We can interpret the slope of the regression line as follows: For every thousand dollar increase in the loan amount, there is a $9.78 rise in monthly applicant income. This might not seem right at first, but these are loan amounts for mortgages, which is why they're so big. "
      ]
    },
    {
      "cell_type": "markdown",
      "id": "f80425cc-ff92-482d-854d-20e157ebcb57",
      "metadata": {
        "id": "f80425cc-ff92-482d-854d-20e157ebcb57"
      },
      "source": [
        "## Preparing the Data for Further Analysis"
      ]
    },
    {
      "cell_type": "markdown",
      "id": "e3355d4a-2e18-4b3d-97d9-28fb607adab7",
      "metadata": {
        "id": "e3355d4a-2e18-4b3d-97d9-28fb607adab7"
      },
      "source": [
        "### Hot Encoding"
      ]
    },
    {
      "cell_type": "markdown",
      "id": "f3376def-4b60-4a37-8a2a-3d94283a616f",
      "metadata": {
        "id": "f3376def-4b60-4a37-8a2a-3d94283a616f"
      },
      "source": [
        "We need to hot encode the categorical data variables so we can apply ML algorithms to this dataset. First, lets see how many unique fields exist for each categorical variable. One issue before we start is with the NaN values. They're tricky to map and work with so we'll temporary replace them with None."
      ]
    },
    {
      "cell_type": "code",
      "execution_count": 17,
      "id": "bb52a89a-1ee3-43f2-a848-114f544d9bfd",
      "metadata": {
        "id": "bb52a89a-1ee3-43f2-a848-114f544d9bfd"
      },
      "outputs": [],
      "source": [
        "data = data.replace({np.nan: None})"
      ]
    },
    {
      "cell_type": "code",
      "execution_count": 18,
      "id": "d2449a81-df69-4912-833f-25d555d6c65a",
      "metadata": {
        "colab": {
          "base_uri": "https://localhost:8080/"
        },
        "id": "d2449a81-df69-4912-833f-25d555d6c65a",
        "outputId": "1d4a00ea-58b5-4214-ba0e-76f0ef055383"
      },
      "outputs": [
        {
          "output_type": "stream",
          "name": "stdout",
          "text": [
            "['Male', 'Female', None]\n",
            "['No', 'Yes', None]\n",
            "['Graduate', 'Not Graduate']\n",
            "['No', 'Yes', None]\n",
            "['Urban', 'Rural', 'Semiurban']\n",
            "['Y', 'N']\n",
            "['0', '1', '2', '3+', None]\n",
            "[1.0, 0.0, None]\n"
          ]
        }
      ],
      "source": [
        "for var in cat_vars: \n",
        "    print(data[var].unique().tolist())"
      ]
    },
    {
      "cell_type": "markdown",
      "id": "fa3eedcd-1b32-41d2-8078-b9362c2f1f13",
      "metadata": {
        "id": "fa3eedcd-1b32-41d2-8078-b9362c2f1f13"
      },
      "source": [
        "Let's map each categorical variable's value to an integer. The following dictionary shows the categorical variables' new mappings."
      ]
    },
    {
      "cell_type": "code",
      "execution_count": 19,
      "id": "c940f1bd-390a-4d31-be6e-4edbe8b65eaf",
      "metadata": {
        "colab": {
          "base_uri": "https://localhost:8080/"
        },
        "id": "c940f1bd-390a-4d31-be6e-4edbe8b65eaf",
        "outputId": "b5c72ce8-ac3b-4f31-9428-4797e7b5002a"
      },
      "outputs": [
        {
          "output_type": "execute_result",
          "data": {
            "text/plain": [
              "{'0': 0,\n",
              " 0.0: 1,\n",
              " '1': 1,\n",
              " 1.0: 0,\n",
              " '2': 2,\n",
              " '3+': 3,\n",
              " 'Female': 1,\n",
              " 'Graduate': 0,\n",
              " 'Male': 0,\n",
              " 'N': 1,\n",
              " 'No': 0,\n",
              " None: None,\n",
              " 'Not Graduate': 1,\n",
              " 'Rural': 1,\n",
              " 'Semiurban': 2,\n",
              " 'Urban': 0,\n",
              " 'Y': 0,\n",
              " 'Yes': 1}"
            ]
          },
          "metadata": {},
          "execution_count": 19
        }
      ],
      "source": [
        "hot_encode = {}\n",
        "\n",
        "for cat_var in cat_vars:\n",
        "    for i, var in enumerate(data[cat_var].unique().tolist()):\n",
        "        hot_encode[var] = i\n",
        "\n",
        "# Keeping the missing values so we can impute them later\n",
        "hot_encode[None] = None \n",
        "hot_encode"
      ]
    },
    {
      "cell_type": "markdown",
      "id": "4fd238ea-e1f3-4698-b2f3-8745774c4517",
      "metadata": {
        "id": "4fd238ea-e1f3-4698-b2f3-8745774c4517"
      },
      "source": [
        "Doing the actual encoding"
      ]
    },
    {
      "cell_type": "code",
      "execution_count": 20,
      "id": "cd20b21d-51e8-4526-bb33-155ddd3f963a",
      "metadata": {
        "id": "cd20b21d-51e8-4526-bb33-155ddd3f963a"
      },
      "outputs": [],
      "source": [
        "for cat_var in cat_vars:\n",
        "    new_col = []\n",
        "    \n",
        "    for _, row in data.iterrows():\n",
        "        new_col.append(hot_encode[row[cat_var]])\n",
        "    \n",
        "    data[cat_var] = new_col"
      ]
    },
    {
      "cell_type": "code",
      "execution_count": 21,
      "id": "7ccc4c23-245a-492b-8022-ac6a619defae",
      "metadata": {
        "colab": {
          "base_uri": "https://localhost:8080/",
          "height": 0
        },
        "id": "7ccc4c23-245a-492b-8022-ac6a619defae",
        "outputId": "77c85ec6-63d1-4750-c5dc-28ee41216d15"
      },
      "outputs": [
        {
          "output_type": "execute_result",
          "data": {
            "text/plain": [
              "     Gender  Married  Dependents  Education  Self_Employed  ApplicantIncome  \\\n",
              "0       0.0      0.0         0.0          0            0.0             5849   \n",
              "1       0.0      1.0         1.0          0            0.0             4583   \n",
              "2       0.0      1.0         0.0          0            1.0             3000   \n",
              "3       0.0      1.0         0.0          1            0.0             2583   \n",
              "4       0.0      0.0         0.0          0            0.0             6000   \n",
              "..      ...      ...         ...        ...            ...              ...   \n",
              "609     1.0      0.0         0.0          0            0.0             2900   \n",
              "610     0.0      1.0         3.0          0            0.0             4106   \n",
              "611     0.0      1.0         1.0          0            0.0             8072   \n",
              "612     0.0      1.0         2.0          0            0.0             7583   \n",
              "613     1.0      0.0         0.0          0            1.0             4583   \n",
              "\n",
              "    CoapplicantIncome LoanAmount Loan_Amount_Term  Credit_History  \\\n",
              "0                 0.0       None            360.0             0.0   \n",
              "1              1508.0      128.0            360.0             0.0   \n",
              "2                 0.0       66.0            360.0             0.0   \n",
              "3              2358.0      120.0            360.0             0.0   \n",
              "4                 0.0      141.0            360.0             0.0   \n",
              "..                ...        ...              ...             ...   \n",
              "609               0.0       71.0            360.0             0.0   \n",
              "610               0.0       40.0            180.0             0.0   \n",
              "611             240.0      253.0            360.0             0.0   \n",
              "612               0.0      187.0            360.0             0.0   \n",
              "613               0.0      133.0            360.0             1.0   \n",
              "\n",
              "     Property_Area  Loan_Status  \n",
              "0                0            0  \n",
              "1                1            1  \n",
              "2                0            0  \n",
              "3                0            0  \n",
              "4                0            0  \n",
              "..             ...          ...  \n",
              "609              1            0  \n",
              "610              1            0  \n",
              "611              0            0  \n",
              "612              0            0  \n",
              "613              2            1  \n",
              "\n",
              "[614 rows x 12 columns]"
            ],
            "text/html": [
              "\n",
              "  <div id=\"df-47ba23d1-9643-4382-8da0-2f5ff0fe9526\">\n",
              "    <div class=\"colab-df-container\">\n",
              "      <div>\n",
              "<style scoped>\n",
              "    .dataframe tbody tr th:only-of-type {\n",
              "        vertical-align: middle;\n",
              "    }\n",
              "\n",
              "    .dataframe tbody tr th {\n",
              "        vertical-align: top;\n",
              "    }\n",
              "\n",
              "    .dataframe thead th {\n",
              "        text-align: right;\n",
              "    }\n",
              "</style>\n",
              "<table border=\"1\" class=\"dataframe\">\n",
              "  <thead>\n",
              "    <tr style=\"text-align: right;\">\n",
              "      <th></th>\n",
              "      <th>Gender</th>\n",
              "      <th>Married</th>\n",
              "      <th>Dependents</th>\n",
              "      <th>Education</th>\n",
              "      <th>Self_Employed</th>\n",
              "      <th>ApplicantIncome</th>\n",
              "      <th>CoapplicantIncome</th>\n",
              "      <th>LoanAmount</th>\n",
              "      <th>Loan_Amount_Term</th>\n",
              "      <th>Credit_History</th>\n",
              "      <th>Property_Area</th>\n",
              "      <th>Loan_Status</th>\n",
              "    </tr>\n",
              "  </thead>\n",
              "  <tbody>\n",
              "    <tr>\n",
              "      <th>0</th>\n",
              "      <td>0.0</td>\n",
              "      <td>0.0</td>\n",
              "      <td>0.0</td>\n",
              "      <td>0</td>\n",
              "      <td>0.0</td>\n",
              "      <td>5849</td>\n",
              "      <td>0.0</td>\n",
              "      <td>None</td>\n",
              "      <td>360.0</td>\n",
              "      <td>0.0</td>\n",
              "      <td>0</td>\n",
              "      <td>0</td>\n",
              "    </tr>\n",
              "    <tr>\n",
              "      <th>1</th>\n",
              "      <td>0.0</td>\n",
              "      <td>1.0</td>\n",
              "      <td>1.0</td>\n",
              "      <td>0</td>\n",
              "      <td>0.0</td>\n",
              "      <td>4583</td>\n",
              "      <td>1508.0</td>\n",
              "      <td>128.0</td>\n",
              "      <td>360.0</td>\n",
              "      <td>0.0</td>\n",
              "      <td>1</td>\n",
              "      <td>1</td>\n",
              "    </tr>\n",
              "    <tr>\n",
              "      <th>2</th>\n",
              "      <td>0.0</td>\n",
              "      <td>1.0</td>\n",
              "      <td>0.0</td>\n",
              "      <td>0</td>\n",
              "      <td>1.0</td>\n",
              "      <td>3000</td>\n",
              "      <td>0.0</td>\n",
              "      <td>66.0</td>\n",
              "      <td>360.0</td>\n",
              "      <td>0.0</td>\n",
              "      <td>0</td>\n",
              "      <td>0</td>\n",
              "    </tr>\n",
              "    <tr>\n",
              "      <th>3</th>\n",
              "      <td>0.0</td>\n",
              "      <td>1.0</td>\n",
              "      <td>0.0</td>\n",
              "      <td>1</td>\n",
              "      <td>0.0</td>\n",
              "      <td>2583</td>\n",
              "      <td>2358.0</td>\n",
              "      <td>120.0</td>\n",
              "      <td>360.0</td>\n",
              "      <td>0.0</td>\n",
              "      <td>0</td>\n",
              "      <td>0</td>\n",
              "    </tr>\n",
              "    <tr>\n",
              "      <th>4</th>\n",
              "      <td>0.0</td>\n",
              "      <td>0.0</td>\n",
              "      <td>0.0</td>\n",
              "      <td>0</td>\n",
              "      <td>0.0</td>\n",
              "      <td>6000</td>\n",
              "      <td>0.0</td>\n",
              "      <td>141.0</td>\n",
              "      <td>360.0</td>\n",
              "      <td>0.0</td>\n",
              "      <td>0</td>\n",
              "      <td>0</td>\n",
              "    </tr>\n",
              "    <tr>\n",
              "      <th>...</th>\n",
              "      <td>...</td>\n",
              "      <td>...</td>\n",
              "      <td>...</td>\n",
              "      <td>...</td>\n",
              "      <td>...</td>\n",
              "      <td>...</td>\n",
              "      <td>...</td>\n",
              "      <td>...</td>\n",
              "      <td>...</td>\n",
              "      <td>...</td>\n",
              "      <td>...</td>\n",
              "      <td>...</td>\n",
              "    </tr>\n",
              "    <tr>\n",
              "      <th>609</th>\n",
              "      <td>1.0</td>\n",
              "      <td>0.0</td>\n",
              "      <td>0.0</td>\n",
              "      <td>0</td>\n",
              "      <td>0.0</td>\n",
              "      <td>2900</td>\n",
              "      <td>0.0</td>\n",
              "      <td>71.0</td>\n",
              "      <td>360.0</td>\n",
              "      <td>0.0</td>\n",
              "      <td>1</td>\n",
              "      <td>0</td>\n",
              "    </tr>\n",
              "    <tr>\n",
              "      <th>610</th>\n",
              "      <td>0.0</td>\n",
              "      <td>1.0</td>\n",
              "      <td>3.0</td>\n",
              "      <td>0</td>\n",
              "      <td>0.0</td>\n",
              "      <td>4106</td>\n",
              "      <td>0.0</td>\n",
              "      <td>40.0</td>\n",
              "      <td>180.0</td>\n",
              "      <td>0.0</td>\n",
              "      <td>1</td>\n",
              "      <td>0</td>\n",
              "    </tr>\n",
              "    <tr>\n",
              "      <th>611</th>\n",
              "      <td>0.0</td>\n",
              "      <td>1.0</td>\n",
              "      <td>1.0</td>\n",
              "      <td>0</td>\n",
              "      <td>0.0</td>\n",
              "      <td>8072</td>\n",
              "      <td>240.0</td>\n",
              "      <td>253.0</td>\n",
              "      <td>360.0</td>\n",
              "      <td>0.0</td>\n",
              "      <td>0</td>\n",
              "      <td>0</td>\n",
              "    </tr>\n",
              "    <tr>\n",
              "      <th>612</th>\n",
              "      <td>0.0</td>\n",
              "      <td>1.0</td>\n",
              "      <td>2.0</td>\n",
              "      <td>0</td>\n",
              "      <td>0.0</td>\n",
              "      <td>7583</td>\n",
              "      <td>0.0</td>\n",
              "      <td>187.0</td>\n",
              "      <td>360.0</td>\n",
              "      <td>0.0</td>\n",
              "      <td>0</td>\n",
              "      <td>0</td>\n",
              "    </tr>\n",
              "    <tr>\n",
              "      <th>613</th>\n",
              "      <td>1.0</td>\n",
              "      <td>0.0</td>\n",
              "      <td>0.0</td>\n",
              "      <td>0</td>\n",
              "      <td>1.0</td>\n",
              "      <td>4583</td>\n",
              "      <td>0.0</td>\n",
              "      <td>133.0</td>\n",
              "      <td>360.0</td>\n",
              "      <td>1.0</td>\n",
              "      <td>2</td>\n",
              "      <td>1</td>\n",
              "    </tr>\n",
              "  </tbody>\n",
              "</table>\n",
              "<p>614 rows × 12 columns</p>\n",
              "</div>\n",
              "      <button class=\"colab-df-convert\" onclick=\"convertToInteractive('df-47ba23d1-9643-4382-8da0-2f5ff0fe9526')\"\n",
              "              title=\"Convert this dataframe to an interactive table.\"\n",
              "              style=\"display:none;\">\n",
              "        \n",
              "  <svg xmlns=\"http://www.w3.org/2000/svg\" height=\"24px\"viewBox=\"0 0 24 24\"\n",
              "       width=\"24px\">\n",
              "    <path d=\"M0 0h24v24H0V0z\" fill=\"none\"/>\n",
              "    <path d=\"M18.56 5.44l.94 2.06.94-2.06 2.06-.94-2.06-.94-.94-2.06-.94 2.06-2.06.94zm-11 1L8.5 8.5l.94-2.06 2.06-.94-2.06-.94L8.5 2.5l-.94 2.06-2.06.94zm10 10l.94 2.06.94-2.06 2.06-.94-2.06-.94-.94-2.06-.94 2.06-2.06.94z\"/><path d=\"M17.41 7.96l-1.37-1.37c-.4-.4-.92-.59-1.43-.59-.52 0-1.04.2-1.43.59L10.3 9.45l-7.72 7.72c-.78.78-.78 2.05 0 2.83L4 21.41c.39.39.9.59 1.41.59.51 0 1.02-.2 1.41-.59l7.78-7.78 2.81-2.81c.8-.78.8-2.07 0-2.86zM5.41 20L4 18.59l7.72-7.72 1.47 1.35L5.41 20z\"/>\n",
              "  </svg>\n",
              "      </button>\n",
              "      \n",
              "  <style>\n",
              "    .colab-df-container {\n",
              "      display:flex;\n",
              "      flex-wrap:wrap;\n",
              "      gap: 12px;\n",
              "    }\n",
              "\n",
              "    .colab-df-convert {\n",
              "      background-color: #E8F0FE;\n",
              "      border: none;\n",
              "      border-radius: 50%;\n",
              "      cursor: pointer;\n",
              "      display: none;\n",
              "      fill: #1967D2;\n",
              "      height: 32px;\n",
              "      padding: 0 0 0 0;\n",
              "      width: 32px;\n",
              "    }\n",
              "\n",
              "    .colab-df-convert:hover {\n",
              "      background-color: #E2EBFA;\n",
              "      box-shadow: 0px 1px 2px rgba(60, 64, 67, 0.3), 0px 1px 3px 1px rgba(60, 64, 67, 0.15);\n",
              "      fill: #174EA6;\n",
              "    }\n",
              "\n",
              "    [theme=dark] .colab-df-convert {\n",
              "      background-color: #3B4455;\n",
              "      fill: #D2E3FC;\n",
              "    }\n",
              "\n",
              "    [theme=dark] .colab-df-convert:hover {\n",
              "      background-color: #434B5C;\n",
              "      box-shadow: 0px 1px 3px 1px rgba(0, 0, 0, 0.15);\n",
              "      filter: drop-shadow(0px 1px 2px rgba(0, 0, 0, 0.3));\n",
              "      fill: #FFFFFF;\n",
              "    }\n",
              "  </style>\n",
              "\n",
              "      <script>\n",
              "        const buttonEl =\n",
              "          document.querySelector('#df-47ba23d1-9643-4382-8da0-2f5ff0fe9526 button.colab-df-convert');\n",
              "        buttonEl.style.display =\n",
              "          google.colab.kernel.accessAllowed ? 'block' : 'none';\n",
              "\n",
              "        async function convertToInteractive(key) {\n",
              "          const element = document.querySelector('#df-47ba23d1-9643-4382-8da0-2f5ff0fe9526');\n",
              "          const dataTable =\n",
              "            await google.colab.kernel.invokeFunction('convertToInteractive',\n",
              "                                                     [key], {});\n",
              "          if (!dataTable) return;\n",
              "\n",
              "          const docLinkHtml = 'Like what you see? Visit the ' +\n",
              "            '<a target=\"_blank\" href=https://colab.research.google.com/notebooks/data_table.ipynb>data table notebook</a>'\n",
              "            + ' to learn more about interactive tables.';\n",
              "          element.innerHTML = '';\n",
              "          dataTable['output_type'] = 'display_data';\n",
              "          await google.colab.output.renderOutput(dataTable, element);\n",
              "          const docLink = document.createElement('div');\n",
              "          docLink.innerHTML = docLinkHtml;\n",
              "          element.appendChild(docLink);\n",
              "        }\n",
              "      </script>\n",
              "    </div>\n",
              "  </div>\n",
              "  "
            ]
          },
          "metadata": {},
          "execution_count": 21
        }
      ],
      "source": [
        "data"
      ]
    },
    {
      "cell_type": "markdown",
      "id": "58cc4bba-5c55-4b79-b46c-a5a723308a47",
      "metadata": {
        "id": "58cc4bba-5c55-4b79-b46c-a5a723308a47"
      },
      "source": [
        "As you can see, all the categorical variables have been hot-encoded into integers."
      ]
    },
    {
      "cell_type": "markdown",
      "id": "ce9a048a-108e-42a7-8a92-bddb7d85540b",
      "metadata": {
        "id": "ce9a048a-108e-42a7-8a92-bddb7d85540b"
      },
      "source": [
        "### Imputation"
      ]
    },
    {
      "cell_type": "markdown",
      "id": "335a3b4d-9a2d-4374-8f43-cec2f6c917d2",
      "metadata": {
        "id": "335a3b4d-9a2d-4374-8f43-cec2f6c917d2"
      },
      "source": [
        "Let's count the NaNs in each column."
      ]
    },
    {
      "cell_type": "code",
      "execution_count": 22,
      "id": "53ba401b-e99d-408c-805b-4e2177b6f4cd",
      "metadata": {
        "colab": {
          "base_uri": "https://localhost:8080/"
        },
        "id": "53ba401b-e99d-408c-805b-4e2177b6f4cd",
        "outputId": "c7c607ed-518e-4f76-fcbe-663b597e15fd"
      },
      "outputs": [
        {
          "output_type": "stream",
          "name": "stdout",
          "text": [
            "Gender 13\n",
            "Married 3\n",
            "Dependents 15\n",
            "Education 0\n",
            "Self_Employed 32\n",
            "ApplicantIncome 0\n",
            "CoapplicantIncome 0\n",
            "LoanAmount 22\n",
            "Loan_Amount_Term 14\n",
            "Credit_History 50\n",
            "Property_Area 0\n",
            "Loan_Status 0\n"
          ]
        }
      ],
      "source": [
        "for col in data.columns: \n",
        "    print(col, data[col].isna().sum())"
      ]
    },
    {
      "cell_type": "code",
      "execution_count": 23,
      "id": "c3cee5cd-2c54-4444-b493-b9d402da8268",
      "metadata": {
        "colab": {
          "base_uri": "https://localhost:8080/"
        },
        "id": "c3cee5cd-2c54-4444-b493-b9d402da8268",
        "outputId": "7c7f553a-a7a8-4785-d9a4-73df5b659510"
      },
      "outputs": [
        {
          "output_type": "execute_result",
          "data": {
            "text/plain": [
              "149"
            ]
          },
          "metadata": {},
          "execution_count": 23
        }
      ],
      "source": [
        "# number of rows with NaN\n",
        "data.isnull().values.ravel().sum()"
      ]
    },
    {
      "cell_type": "markdown",
      "id": "311860fa-8e23-402c-a549-8487763f45b4",
      "metadata": {
        "id": "311860fa-8e23-402c-a549-8487763f45b4"
      },
      "source": [
        "149 out of 614 of our rows have NaN values so we don't want to simply drop them. That would mean losing a lot of data. This leaves the option of imputing the missing values. The straightforward approach is to use mode and mean imputing. However, this approach will not preserve the relationship among variables and may decrease the variance.\n",
        "\n",
        "We will be using MissForest which imputes missing values using Random Forests in an iterative fashion. One cool feature with MissForest is that it can handle both categorical and continous variables provided that the categorical variables are hot-encoded which we just did."
      ]
    },
    {
      "cell_type": "code",
      "execution_count": 24,
      "id": "0e2f51df-ea13-49e2-825c-9feaf32a5967",
      "metadata": {
        "scrolled": true,
        "tags": [],
        "colab": {
          "base_uri": "https://localhost:8080/"
        },
        "id": "0e2f51df-ea13-49e2-825c-9feaf32a5967",
        "outputId": "82b9dadc-3c8f-42d9-a08f-658ad85f50ed"
      },
      "outputs": [
        {
          "output_type": "stream",
          "name": "stderr",
          "text": [
            "/usr/local/lib/python3.7/dist-packages/sklearn/ensemble/_forest.py:400: FutureWarning: Criterion 'mse' was deprecated in v1.0 and will be removed in version 1.2. Use `criterion='squared_error'` which is equivalent.\n",
            "  FutureWarning,\n",
            "/usr/local/lib/python3.7/dist-packages/sklearn/ensemble/_forest.py:400: FutureWarning: Criterion 'mse' was deprecated in v1.0 and will be removed in version 1.2. Use `criterion='squared_error'` which is equivalent.\n",
            "  FutureWarning,\n",
            "/usr/local/lib/python3.7/dist-packages/sklearn/ensemble/_forest.py:400: FutureWarning: Criterion 'mse' was deprecated in v1.0 and will be removed in version 1.2. Use `criterion='squared_error'` which is equivalent.\n",
            "  FutureWarning,\n",
            "/usr/local/lib/python3.7/dist-packages/sklearn/ensemble/_forest.py:400: FutureWarning: Criterion 'mse' was deprecated in v1.0 and will be removed in version 1.2. Use `criterion='squared_error'` which is equivalent.\n",
            "  FutureWarning,\n",
            "/usr/local/lib/python3.7/dist-packages/sklearn/ensemble/_forest.py:400: FutureWarning: Criterion 'mse' was deprecated in v1.0 and will be removed in version 1.2. Use `criterion='squared_error'` which is equivalent.\n",
            "  FutureWarning,\n",
            "/usr/local/lib/python3.7/dist-packages/sklearn/ensemble/_forest.py:400: FutureWarning: Criterion 'mse' was deprecated in v1.0 and will be removed in version 1.2. Use `criterion='squared_error'` which is equivalent.\n",
            "  FutureWarning,\n",
            "/usr/local/lib/python3.7/dist-packages/sklearn/ensemble/_forest.py:400: FutureWarning: Criterion 'mse' was deprecated in v1.0 and will be removed in version 1.2. Use `criterion='squared_error'` which is equivalent.\n",
            "  FutureWarning,\n"
          ]
        },
        {
          "output_type": "stream",
          "name": "stdout",
          "text": [
            "Iteration: 0\n"
          ]
        },
        {
          "output_type": "stream",
          "name": "stderr",
          "text": [
            "/usr/local/lib/python3.7/dist-packages/sklearn/ensemble/_forest.py:400: FutureWarning: Criterion 'mse' was deprecated in v1.0 and will be removed in version 1.2. Use `criterion='squared_error'` which is equivalent.\n",
            "  FutureWarning,\n",
            "/usr/local/lib/python3.7/dist-packages/sklearn/ensemble/_forest.py:400: FutureWarning: Criterion 'mse' was deprecated in v1.0 and will be removed in version 1.2. Use `criterion='squared_error'` which is equivalent.\n",
            "  FutureWarning,\n",
            "/usr/local/lib/python3.7/dist-packages/sklearn/ensemble/_forest.py:400: FutureWarning: Criterion 'mse' was deprecated in v1.0 and will be removed in version 1.2. Use `criterion='squared_error'` which is equivalent.\n",
            "  FutureWarning,\n",
            "/usr/local/lib/python3.7/dist-packages/sklearn/ensemble/_forest.py:400: FutureWarning: Criterion 'mse' was deprecated in v1.0 and will be removed in version 1.2. Use `criterion='squared_error'` which is equivalent.\n",
            "  FutureWarning,\n",
            "/usr/local/lib/python3.7/dist-packages/sklearn/ensemble/_forest.py:400: FutureWarning: Criterion 'mse' was deprecated in v1.0 and will be removed in version 1.2. Use `criterion='squared_error'` which is equivalent.\n",
            "  FutureWarning,\n",
            "/usr/local/lib/python3.7/dist-packages/sklearn/ensemble/_forest.py:400: FutureWarning: Criterion 'mse' was deprecated in v1.0 and will be removed in version 1.2. Use `criterion='squared_error'` which is equivalent.\n",
            "  FutureWarning,\n",
            "/usr/local/lib/python3.7/dist-packages/sklearn/ensemble/_forest.py:400: FutureWarning: Criterion 'mse' was deprecated in v1.0 and will be removed in version 1.2. Use `criterion='squared_error'` which is equivalent.\n",
            "  FutureWarning,\n"
          ]
        },
        {
          "output_type": "stream",
          "name": "stdout",
          "text": [
            "Iteration: 1\n"
          ]
        },
        {
          "output_type": "stream",
          "name": "stderr",
          "text": [
            "/usr/local/lib/python3.7/dist-packages/sklearn/ensemble/_forest.py:400: FutureWarning: Criterion 'mse' was deprecated in v1.0 and will be removed in version 1.2. Use `criterion='squared_error'` which is equivalent.\n",
            "  FutureWarning,\n",
            "/usr/local/lib/python3.7/dist-packages/sklearn/ensemble/_forest.py:400: FutureWarning: Criterion 'mse' was deprecated in v1.0 and will be removed in version 1.2. Use `criterion='squared_error'` which is equivalent.\n",
            "  FutureWarning,\n",
            "/usr/local/lib/python3.7/dist-packages/sklearn/ensemble/_forest.py:400: FutureWarning: Criterion 'mse' was deprecated in v1.0 and will be removed in version 1.2. Use `criterion='squared_error'` which is equivalent.\n",
            "  FutureWarning,\n",
            "/usr/local/lib/python3.7/dist-packages/sklearn/ensemble/_forest.py:400: FutureWarning: Criterion 'mse' was deprecated in v1.0 and will be removed in version 1.2. Use `criterion='squared_error'` which is equivalent.\n",
            "  FutureWarning,\n",
            "/usr/local/lib/python3.7/dist-packages/sklearn/ensemble/_forest.py:400: FutureWarning: Criterion 'mse' was deprecated in v1.0 and will be removed in version 1.2. Use `criterion='squared_error'` which is equivalent.\n",
            "  FutureWarning,\n",
            "/usr/local/lib/python3.7/dist-packages/sklearn/ensemble/_forest.py:400: FutureWarning: Criterion 'mse' was deprecated in v1.0 and will be removed in version 1.2. Use `criterion='squared_error'` which is equivalent.\n",
            "  FutureWarning,\n",
            "/usr/local/lib/python3.7/dist-packages/sklearn/ensemble/_forest.py:400: FutureWarning: Criterion 'mse' was deprecated in v1.0 and will be removed in version 1.2. Use `criterion='squared_error'` which is equivalent.\n",
            "  FutureWarning,\n"
          ]
        },
        {
          "output_type": "stream",
          "name": "stdout",
          "text": [
            "Iteration: 2\n"
          ]
        },
        {
          "output_type": "stream",
          "name": "stderr",
          "text": [
            "/usr/local/lib/python3.7/dist-packages/sklearn/ensemble/_forest.py:400: FutureWarning: Criterion 'mse' was deprecated in v1.0 and will be removed in version 1.2. Use `criterion='squared_error'` which is equivalent.\n",
            "  FutureWarning,\n",
            "/usr/local/lib/python3.7/dist-packages/sklearn/ensemble/_forest.py:400: FutureWarning: Criterion 'mse' was deprecated in v1.0 and will be removed in version 1.2. Use `criterion='squared_error'` which is equivalent.\n",
            "  FutureWarning,\n",
            "/usr/local/lib/python3.7/dist-packages/sklearn/ensemble/_forest.py:400: FutureWarning: Criterion 'mse' was deprecated in v1.0 and will be removed in version 1.2. Use `criterion='squared_error'` which is equivalent.\n",
            "  FutureWarning,\n",
            "/usr/local/lib/python3.7/dist-packages/sklearn/ensemble/_forest.py:400: FutureWarning: Criterion 'mse' was deprecated in v1.0 and will be removed in version 1.2. Use `criterion='squared_error'` which is equivalent.\n",
            "  FutureWarning,\n",
            "/usr/local/lib/python3.7/dist-packages/sklearn/ensemble/_forest.py:400: FutureWarning: Criterion 'mse' was deprecated in v1.0 and will be removed in version 1.2. Use `criterion='squared_error'` which is equivalent.\n",
            "  FutureWarning,\n",
            "/usr/local/lib/python3.7/dist-packages/sklearn/ensemble/_forest.py:400: FutureWarning: Criterion 'mse' was deprecated in v1.0 and will be removed in version 1.2. Use `criterion='squared_error'` which is equivalent.\n",
            "  FutureWarning,\n",
            "/usr/local/lib/python3.7/dist-packages/sklearn/ensemble/_forest.py:400: FutureWarning: Criterion 'mse' was deprecated in v1.0 and will be removed in version 1.2. Use `criterion='squared_error'` which is equivalent.\n",
            "  FutureWarning,\n"
          ]
        },
        {
          "output_type": "stream",
          "name": "stdout",
          "text": [
            "Iteration: 3\n"
          ]
        },
        {
          "output_type": "stream",
          "name": "stderr",
          "text": [
            "/usr/local/lib/python3.7/dist-packages/sklearn/ensemble/_forest.py:400: FutureWarning: Criterion 'mse' was deprecated in v1.0 and will be removed in version 1.2. Use `criterion='squared_error'` which is equivalent.\n",
            "  FutureWarning,\n",
            "/usr/local/lib/python3.7/dist-packages/sklearn/ensemble/_forest.py:400: FutureWarning: Criterion 'mse' was deprecated in v1.0 and will be removed in version 1.2. Use `criterion='squared_error'` which is equivalent.\n",
            "  FutureWarning,\n",
            "/usr/local/lib/python3.7/dist-packages/sklearn/ensemble/_forest.py:400: FutureWarning: Criterion 'mse' was deprecated in v1.0 and will be removed in version 1.2. Use `criterion='squared_error'` which is equivalent.\n",
            "  FutureWarning,\n",
            "/usr/local/lib/python3.7/dist-packages/sklearn/ensemble/_forest.py:400: FutureWarning: Criterion 'mse' was deprecated in v1.0 and will be removed in version 1.2. Use `criterion='squared_error'` which is equivalent.\n",
            "  FutureWarning,\n",
            "/usr/local/lib/python3.7/dist-packages/sklearn/ensemble/_forest.py:400: FutureWarning: Criterion 'mse' was deprecated in v1.0 and will be removed in version 1.2. Use `criterion='squared_error'` which is equivalent.\n",
            "  FutureWarning,\n",
            "/usr/local/lib/python3.7/dist-packages/sklearn/ensemble/_forest.py:400: FutureWarning: Criterion 'mse' was deprecated in v1.0 and will be removed in version 1.2. Use `criterion='squared_error'` which is equivalent.\n",
            "  FutureWarning,\n",
            "/usr/local/lib/python3.7/dist-packages/sklearn/ensemble/_forest.py:400: FutureWarning: Criterion 'mse' was deprecated in v1.0 and will be removed in version 1.2. Use `criterion='squared_error'` which is equivalent.\n",
            "  FutureWarning,\n"
          ]
        },
        {
          "output_type": "stream",
          "name": "stdout",
          "text": [
            "Iteration: 4\n"
          ]
        }
      ],
      "source": [
        "imputer = MissForest() \n",
        "X_imputed = imputer.fit_transform(data)"
      ]
    },
    {
      "cell_type": "code",
      "execution_count": 25,
      "id": "8311411a-b0ec-4bb2-b32e-31ecfef39720",
      "metadata": {
        "id": "8311411a-b0ec-4bb2-b32e-31ecfef39720"
      },
      "outputs": [],
      "source": [
        "data_imputed = pd.DataFrame(X_imputed, columns=data.columns)"
      ]
    },
    {
      "cell_type": "code",
      "execution_count": 26,
      "id": "cbed5890-f79c-4936-abfd-78a9bca36031",
      "metadata": {
        "id": "cbed5890-f79c-4936-abfd-78a9bca36031"
      },
      "outputs": [],
      "source": [
        "# lets round off values in categorical columns (0/1 columns)\n",
        "for cat_var in cat_vars:\n",
        "    data_imputed = data_imputed.round({cat_var: 0})"
      ]
    },
    {
      "cell_type": "markdown",
      "id": "b8c5cacf-bc08-4666-a1a8-74121ebe55a4",
      "metadata": {
        "id": "b8c5cacf-bc08-4666-a1a8-74121ebe55a4"
      },
      "source": [
        "data_imputed"
      ]
    },
    {
      "cell_type": "markdown",
      "id": "0df09bcb-ccbc-47f1-b77b-472ae95f68a8",
      "metadata": {
        "id": "0df09bcb-ccbc-47f1-b77b-472ae95f68a8"
      },
      "source": [
        "Now we have a complete dataset that's been encoded and imputed with no missing data! Let's look at a heatmap of a correlation to identify relationships between variables now that all the data has been prepared."
      ]
    },
    {
      "cell_type": "code",
      "execution_count": 27,
      "id": "57fac577-abb0-494b-abcf-93eb4e022d2d",
      "metadata": {
        "colab": {
          "base_uri": "https://localhost:8080/",
          "height": 374
        },
        "id": "57fac577-abb0-494b-abcf-93eb4e022d2d",
        "outputId": "b1fbb473-783c-4417-d500-672e5751cc1f"
      },
      "outputs": [
        {
          "output_type": "execute_result",
          "data": {
            "text/plain": [
              "<AxesSubplot:>"
            ]
          },
          "metadata": {},
          "execution_count": 27
        },
        {
          "output_type": "display_data",
          "data": {
            "text/plain": [
              "<Figure size 432x288 with 2 Axes>"
            ],
            "image/png": "[encoded data removed]"
          },
          "metadata": {
            "needs_background": "light"
          }
        }
      ],
      "source": [
        "sns.heatmap(data_imputed.corr())"
      ]
    },
    {
      "cell_type": "markdown",
      "id": "2a33f235-8983-433b-8c9e-d7979ff1f205",
      "metadata": {
        "id": "2a33f235-8983-433b-8c9e-d7979ff1f205"
      },
      "source": [
        "Based on the heatmap above, we can see which variables are closely related. We can tell that credit history, applicant income, and number of dependents are the most important factors in determining whether an application will get approved or not. This makes sense because people with longer credit history and higher income are less likely to default on loans. This also confirms the hypothesis made in the exploratory data analysis section based on the charts we generated. "
      ]
    },
    {
      "cell_type": "markdown",
      "id": "c0c33610-33ed-41da-a087-54acd33c4058",
      "metadata": {
        "id": "c0c33610-33ed-41da-a087-54acd33c4058"
      },
      "source": [
        "## Synthetic Data Generation"
      ]
    },
    {
      "cell_type": "markdown",
      "id": "c063ef9a-c1ae-4bb1-9070-1b09b26d404a",
      "metadata": {
        "id": "c063ef9a-c1ae-4bb1-9070-1b09b26d404a"
      },
      "source": [
        "In the next step, we will try to generate a synthetic dataset that mimics our real data.\n",
        "\n",
        "Synthetic data is annotated information that computer simulations or algorithms generate as an alternative to real-world data. It may be artificial, but synthetic data reflects real-world data, mathematically or statistically. Research demonstrates it can be as good or even better for training an AI model than data based on actual objects, events or people.\n",
        "\n",
        "Why is it so important? Developers need large, carefully labeled datasets to train neural networks. More diverse training data generally makes for more accurate AI models. The problem is gathering and labeling datasets that may contain a few thousand to tens of millions of elements is time consuming and often prohibitively expensive. Enter synthetic data. A single image that could cost $6 from a labeling service can be artificially generated for six cents, estimates Paul Walborsky, who co-founded one of the first dedicated synthetic data services, AI.Reverie."
      ]
    },
    {
      "cell_type": "markdown",
      "id": "df8f3b7c-da92-43c9-9882-86bc00a7e712",
      "metadata": {
        "id": "df8f3b7c-da92-43c9-9882-86bc00a7e712"
      },
      "source": [
        "We are using the DataProfiler which is a tool that can profile dataset and quantify both global and local statistics about the data. At the global level, we have information such as the Correlation matrix, number of rows, ratio of NaNs. At the local level we have information on each and every column (mean, mode, stddev, etc.)."
      ]
    },
    {
      "cell_type": "code",
      "execution_count": 28,
      "id": "793cc278-c60e-4bd1-83f5-36014962e2b2",
      "metadata": {
        "colab": {
          "base_uri": "https://localhost:8080/"
        },
        "id": "793cc278-c60e-4bd1-83f5-36014962e2b2",
        "outputId": "35918d5d-5214-420f-811e-5f7a3b5a3a17"
      },
      "outputs": [
        {
          "output_type": "stream",
          "name": "stdout",
          "text": [
            "WARNING:tensorflow:SavedModel saved prior to TF 2.5 detected when loading Keras model. Please ensure that you are saving the model with model.save() or tf.keras.models.save_model(), *NOT* tf.saved_model.save(). To confirm, there should be a file named \"keras_metadata.pb\" in the SavedModel directory.\n",
            "INFO:DataProfiler.profilers.profile_builder: Finding the Null values in the columns... \n"
          ]
        },
        {
          "output_type": "stream",
          "name": "stderr",
          "text": [
            "100%|██████████| 12/12 [00:00<00:00, 334.91it/s]\n"
          ]
        },
        {
          "output_type": "stream",
          "name": "stdout",
          "text": [
            "INFO:DataProfiler.profilers.profile_builder: Calculating the statistics...  (with 4 processes)\n"
          ]
        },
        {
          "output_type": "stream",
          "name": "stderr",
          "text": [
            "100%|██████████| 12/12 [00:02<00:00,  4.63it/s]\n"
          ]
        }
      ],
      "source": [
        "profile_options = dp.ProfilerOptions()\n",
        "profile_options.set({\"correlation.is_enabled\": True})\n",
        "\n",
        "profile = dp.Profiler(data_imputed, options=profile_options)"
      ]
    },
    {
      "cell_type": "code",
      "execution_count": 29,
      "id": "8af3b1f4-1957-4313-937e-b4f99bf91294",
      "metadata": {
        "id": "8af3b1f4-1957-4313-937e-b4f99bf91294"
      },
      "outputs": [],
      "source": [
        "report = profile.report()"
      ]
    },
    {
      "cell_type": "code",
      "execution_count": 30,
      "id": "cb343f20-b2ba-4ebf-bda5-8005447f7e04",
      "metadata": {
        "id": "cb343f20-b2ba-4ebf-bda5-8005447f7e04"
      },
      "outputs": [],
      "source": [
        "n_samples = report[\"global_stats\"][\"samples_used\"]\n",
        "n_variables = len(report[\"data_stats\"])\n",
        "seed = 123"
      ]
    },
    {
      "cell_type": "code",
      "execution_count": 31,
      "id": "4d47e5c5-3b97-438e-9e75-9fe34582555a",
      "metadata": {
        "id": "4d47e5c5-3b97-438e-9e75-9fe34582555a"
      },
      "outputs": [],
      "source": [
        "# build covariance matrix using the correlation matrix and diagonal of the standard deviations\n",
        "\n",
        "R = report[\"global_stats\"][\"correlation_matrix\"].round(decimals=8)\n",
        "\n",
        "stddevs = [stat[\"statistics\"][\"stddev\"] for stat in report[\"data_stats\"]]\n",
        "D = np.diag(stddevs)\n",
        "\n",
        "cov = D @ R @ D\n",
        "cov = cov.round(decimals=8)"
      ]
    },
    {
      "cell_type": "code",
      "execution_count": 32,
      "id": "32f5c42b-02bb-4646-ba2d-ee78916a0fa5",
      "metadata": {
        "id": "32f5c42b-02bb-4646-ba2d-ee78916a0fa5",
        "colab": {
          "base_uri": "https://localhost:8080/"
        },
        "outputId": "a355e09d-1821-46a9-dba0-0544911e528c"
      },
      "outputs": [
        {
          "output_type": "execute_result",
          "data": {
            "text/plain": [
              "array([-4.03553698e-01,  1.93770315e-01, -4.91520253e-01, -2.91878476e-01,\n",
              "       -2.72054420e-01,  1.44939133e+03, -3.82562515e+03, -6.13389950e+01,\n",
              "        4.04455609e+01, -2.23467659e-01,  1.15550485e-01, -4.46130412e-01])"
            ]
          },
          "metadata": {},
          "execution_count": 32
        }
      ],
      "source": [
        "# initialize X array\n",
        "\n",
        "means = np.zeros(n_variables)\n",
        "mvnorm = stats.multivariate_normal(mean=means, cov=cov)\n",
        "x = mvnorm.rvs(n_samples)\n",
        "x[0]"
      ]
    },
    {
      "cell_type": "code",
      "execution_count": 33,
      "id": "d697ee6f-7228-4581-8d4f-451b5ff36cdf",
      "metadata": {
        "id": "d697ee6f-7228-4581-8d4f-451b5ff36cdf",
        "colab": {
          "base_uri": "https://localhost:8080/"
        },
        "outputId": "f2f223eb-a268-4500-b992-2b1fe61c4f45"
      },
      "outputs": [
        {
          "output_type": "execute_result",
          "data": {
            "text/plain": [
              "array([0.34327047, 0.57682213, 0.31152927, 0.38518977, 0.39279009,\n",
              "       1.        , 0.        , 0.        , 1.        , 0.41158578,\n",
              "       0.5459956 , 0.32775152])"
            ]
          },
          "metadata": {},
          "execution_count": 33
        }
      ],
      "source": [
        "# now tranform marginals back to uniform distribution\n",
        "\n",
        "norm = stats.norm()\n",
        "x = norm.cdf(x)\n",
        "x[0]"
      ]
    },
    {
      "cell_type": "code",
      "execution_count": 34,
      "id": "b8c7e547-81db-491a-922e-b8aafb06b4c0",
      "metadata": {
        "id": "b8c7e547-81db-491a-922e-b8aafb06b4c0"
      },
      "outputs": [],
      "source": [
        "# generate scalers by range of values in original data\n",
        "\n",
        "scalers = {}\n",
        "for col, stat in enumerate(report[\"data_stats\"]):\n",
        "    _min = stat[\"statistics\"][\"min\"]\n",
        "    _max = stat[\"statistics\"][\"max\"]\n",
        "    scalers[col] = MinMaxScaler(feature_range=(_min, _max))"
      ]
    },
    {
      "cell_type": "code",
      "execution_count": 35,
      "id": "8fc19645-f933-4c57-860a-c1ead54e9645",
      "metadata": {
        "id": "8fc19645-f933-4c57-860a-c1ead54e9645"
      },
      "outputs": [],
      "source": [
        "# rescale to feature range\n",
        "\n",
        "for col in scalers:\n",
        "    x[:, col] = (\n",
        "        scalers[col]\n",
        "        .fit_transform(x[:, col].reshape(-1, 1))\n",
        "        .flatten()\n",
        "    )"
      ]
    },
    {
      "cell_type": "code",
      "execution_count": 36,
      "id": "d223c17d-1aa8-45d4-bf91-0bd17747cab1",
      "metadata": {
        "id": "d223c17d-1aa8-45d4-bf91-0bd17747cab1"
      },
      "outputs": [],
      "source": [
        "# find number of decimals for each column and round the data to match\n",
        "precisions = [stat[\"samples\"][0][::-1].find(\".\") for stat in report[\"data_stats\"]]\n",
        "\n",
        "for i, precision in enumerate(precisions):\n",
        "    x[:, i] = np.around(x[:, i], precision if precision > 0 else 0)"
      ]
    },
    {
      "cell_type": "code",
      "execution_count": 37,
      "id": "b85b8d58-1a2c-4891-88b2-8ab098854237",
      "metadata": {
        "id": "b85b8d58-1a2c-4891-88b2-8ab098854237"
      },
      "outputs": [],
      "source": [
        "new_data = pd.DataFrame(x, columns=[stat[\"column_name\"] for stat in report[\"data_stats\"]])"
      ]
    },
    {
      "cell_type": "code",
      "execution_count": 38,
      "id": "9b9656f3-c796-48f8-9b7c-fb18a64d0142",
      "metadata": {
        "colab": {
          "base_uri": "https://localhost:8080/",
          "height": 488
        },
        "id": "9b9656f3-c796-48f8-9b7c-fb18a64d0142",
        "outputId": "2c83577c-b1b2-4b61-ccea-8e6031341384"
      },
      "outputs": [
        {
          "output_type": "execute_result",
          "data": {
            "text/plain": [
              "     Gender  Married  Dependents  Education  Self_Employed  ApplicantIncome  \\\n",
              "0       0.3      0.6         0.9        0.4            0.4          81000.0   \n",
              "1       0.2      0.8         3.0        0.5            0.6            150.0   \n",
              "2       0.5      0.4         0.6        0.4            0.5          81000.0   \n",
              "3       0.7      0.5         0.2        0.4            0.7          81000.0   \n",
              "4       0.6      0.5         2.9        0.2            0.4          81000.0   \n",
              "..      ...      ...         ...        ...            ...              ...   \n",
              "609     0.1      0.8         2.0        0.5            0.7          81000.0   \n",
              "610     0.5      0.7         2.2        0.6            0.5          81000.0   \n",
              "611     0.5      0.6         0.6        0.7            0.4            150.0   \n",
              "612     0.5      0.4         2.1        0.7            0.7            150.0   \n",
              "613     0.5      0.4         1.6        0.5            0.5            150.0   \n",
              "\n",
              "     CoapplicantIncome  LoanAmount  Loan_Amount_Term  Credit_History  \\\n",
              "0                  0.0         9.0             480.0             0.4   \n",
              "1              41667.0         9.0              12.0             0.5   \n",
              "2                  0.0         9.0              12.0             0.9   \n",
              "3              41667.0       700.0              12.0             0.4   \n",
              "4                  0.0         9.0              12.0             0.5   \n",
              "..                 ...         ...               ...             ...   \n",
              "609                0.0         9.0              12.0             0.8   \n",
              "610                0.0         9.0              12.0             0.8   \n",
              "611                0.0         9.0             480.0             0.4   \n",
              "612            41667.0       700.0             480.0             0.6   \n",
              "613            41667.0       700.0             480.0             0.7   \n",
              "\n",
              "     Property_Area  Loan_Status  \n",
              "0              1.1          0.3  \n",
              "1              0.2          0.6  \n",
              "2              0.6          0.8  \n",
              "3              0.4          0.3  \n",
              "4              1.5          0.4  \n",
              "..             ...          ...  \n",
              "609            1.6          0.6  \n",
              "610            1.7          0.7  \n",
              "611            0.9          0.4  \n",
              "612            0.3          0.5  \n",
              "613            0.4          0.6  \n",
              "\n",
              "[614 rows x 12 columns]"
            ],
            "text/html": [
              "\n",
              "  <div id=\"df-c2969b8c-4e97-478f-949d-cc42cb5e616f\">\n",
              "    <div class=\"colab-df-container\">\n",
              "      <div>\n",
              "<style scoped>\n",
              "    .dataframe tbody tr th:only-of-type {\n",
              "        vertical-align: middle;\n",
              "    }\n",
              "\n",
              "    .dataframe tbody tr th {\n",
              "        vertical-align: top;\n",
              "    }\n",
              "\n",
              "    .dataframe thead th {\n",
              "        text-align: right;\n",
              "    }\n",
              "</style>\n",
              "<table border=\"1\" class=\"dataframe\">\n",
              "  <thead>\n",
              "    <tr style=\"text-align: right;\">\n",
              "      <th></th>\n",
              "      <th>Gender</th>\n",
              "      <th>Married</th>\n",
              "      <th>Dependents</th>\n",
              "      <th>Education</th>\n",
              "      <th>Self_Employed</th>\n",
              "      <th>ApplicantIncome</th>\n",
              "      <th>CoapplicantIncome</th>\n",
              "      <th>LoanAmount</th>\n",
              "      <th>Loan_Amount_Term</th>\n",
              "      <th>Credit_History</th>\n",
              "      <th>Property_Area</th>\n",
              "      <th>Loan_Status</th>\n",
              "    </tr>\n",
              "  </thead>\n",
              "  <tbody>\n",
              "    <tr>\n",
              "      <th>0</th>\n",
              "      <td>0.3</td>\n",
              "      <td>0.6</td>\n",
              "      <td>0.9</td>\n",
              "      <td>0.4</td>\n",
              "      <td>0.4</td>\n",
              "      <td>81000.0</td>\n",
              "      <td>0.0</td>\n",
              "      <td>9.0</td>\n",
              "      <td>480.0</td>\n",
              "      <td>0.4</td>\n",
              "      <td>1.1</td>\n",
              "      <td>0.3</td>\n",
              "    </tr>\n",
              "    <tr>\n",
              "      <th>1</th>\n",
              "      <td>0.2</td>\n",
              "      <td>0.8</td>\n",
              "      <td>3.0</td>\n",
              "      <td>0.5</td>\n",
              "      <td>0.6</td>\n",
              "      <td>150.0</td>\n",
              "      <td>41667.0</td>\n",
              "      <td>9.0</td>\n",
              "      <td>12.0</td>\n",
              "      <td>0.5</td>\n",
              "      <td>0.2</td>\n",
              "      <td>0.6</td>\n",
              "    </tr>\n",
              "    <tr>\n",
              "      <th>2</th>\n",
              "      <td>0.5</td>\n",
              "      <td>0.4</td>\n",
              "      <td>0.6</td>\n",
              "      <td>0.4</td>\n",
              "      <td>0.5</td>\n",
              "      <td>81000.0</td>\n",
              "      <td>0.0</td>\n",
              "      <td>9.0</td>\n",
              "      <td>12.0</td>\n",
              "      <td>0.9</td>\n",
              "      <td>0.6</td>\n",
              "      <td>0.8</td>\n",
              "    </tr>\n",
              "    <tr>\n",
              "      <th>3</th>\n",
              "      <td>0.7</td>\n",
              "      <td>0.5</td>\n",
              "      <td>0.2</td>\n",
              "      <td>0.4</td>\n",
              "      <td>0.7</td>\n",
              "      <td>81000.0</td>\n",
              "      <td>41667.0</td>\n",
              "      <td>700.0</td>\n",
              "      <td>12.0</td>\n",
              "      <td>0.4</td>\n",
              "      <td>0.4</td>\n",
              "      <td>0.3</td>\n",
              "    </tr>\n",
              "    <tr>\n",
              "      <th>4</th>\n",
              "      <td>0.6</td>\n",
              "      <td>0.5</td>\n",
              "      <td>2.9</td>\n",
              "      <td>0.2</td>\n",
              "      <td>0.4</td>\n",
              "      <td>81000.0</td>\n",
              "      <td>0.0</td>\n",
              "      <td>9.0</td>\n",
              "      <td>12.0</td>\n",
              "      <td>0.5</td>\n",
              "      <td>1.5</td>\n",
              "      <td>0.4</td>\n",
              "    </tr>\n",
              "    <tr>\n",
              "      <th>...</th>\n",
              "      <td>...</td>\n",
              "      <td>...</td>\n",
              "      <td>...</td>\n",
              "      <td>...</td>\n",
              "      <td>...</td>\n",
              "      <td>...</td>\n",
              "      <td>...</td>\n",
              "      <td>...</td>\n",
              "      <td>...</td>\n",
              "      <td>...</td>\n",
              "      <td>...</td>\n",
              "      <td>...</td>\n",
              "    </tr>\n",
              "    <tr>\n",
              "      <th>609</th>\n",
              "      <td>0.1</td>\n",
              "      <td>0.8</td>\n",
              "      <td>2.0</td>\n",
              "      <td>0.5</td>\n",
              "      <td>0.7</td>\n",
              "      <td>81000.0</td>\n",
              "      <td>0.0</td>\n",
              "      <td>9.0</td>\n",
              "      <td>12.0</td>\n",
              "      <td>0.8</td>\n",
              "      <td>1.6</td>\n",
              "      <td>0.6</td>\n",
              "    </tr>\n",
              "    <tr>\n",
              "      <th>610</th>\n",
              "      <td>0.5</td>\n",
              "      <td>0.7</td>\n",
              "      <td>2.2</td>\n",
              "      <td>0.6</td>\n",
              "      <td>0.5</td>\n",
              "      <td>81000.0</td>\n",
              "      <td>0.0</td>\n",
              "      <td>9.0</td>\n",
              "      <td>12.0</td>\n",
              "      <td>0.8</td>\n",
              "      <td>1.7</td>\n",
              "      <td>0.7</td>\n",
              "    </tr>\n",
              "    <tr>\n",
              "      <th>611</th>\n",
              "      <td>0.5</td>\n",
              "      <td>0.6</td>\n",
              "      <td>0.6</td>\n",
              "      <td>0.7</td>\n",
              "      <td>0.4</td>\n",
              "      <td>150.0</td>\n",
              "      <td>0.0</td>\n",
              "      <td>9.0</td>\n",
              "      <td>480.0</td>\n",
              "      <td>0.4</td>\n",
              "      <td>0.9</td>\n",
              "      <td>0.4</td>\n",
              "    </tr>\n",
              "    <tr>\n",
              "      <th>612</th>\n",
              "      <td>0.5</td>\n",
              "      <td>0.4</td>\n",
              "      <td>2.1</td>\n",
              "      <td>0.7</td>\n",
              "      <td>0.7</td>\n",
              "      <td>150.0</td>\n",
              "      <td>41667.0</td>\n",
              "      <td>700.0</td>\n",
              "      <td>480.0</td>\n",
              "      <td>0.6</td>\n",
              "      <td>0.3</td>\n",
              "      <td>0.5</td>\n",
              "    </tr>\n",
              "    <tr>\n",
              "      <th>613</th>\n",
              "      <td>0.5</td>\n",
              "      <td>0.4</td>\n",
              "      <td>1.6</td>\n",
              "      <td>0.5</td>\n",
              "      <td>0.5</td>\n",
              "      <td>150.0</td>\n",
              "      <td>41667.0</td>\n",
              "      <td>700.0</td>\n",
              "      <td>480.0</td>\n",
              "      <td>0.7</td>\n",
              "      <td>0.4</td>\n",
              "      <td>0.6</td>\n",
              "    </tr>\n",
              "  </tbody>\n",
              "</table>\n",
              "<p>614 rows × 12 columns</p>\n",
              "</div>\n",
              "      <button class=\"colab-df-convert\" onclick=\"convertToInteractive('df-c2969b8c-4e97-478f-949d-cc42cb5e616f')\"\n",
              "              title=\"Convert this dataframe to an interactive table.\"\n",
              "              style=\"display:none;\">\n",
              "        \n",
              "  <svg xmlns=\"http://www.w3.org/2000/svg\" height=\"24px\"viewBox=\"0 0 24 24\"\n",
              "       width=\"24px\">\n",
              "    <path d=\"M0 0h24v24H0V0z\" fill=\"none\"/>\n",
              "    <path d=\"M18.56 5.44l.94 2.06.94-2.06 2.06-.94-2.06-.94-.94-2.06-.94 2.06-2.06.94zm-11 1L8.5 8.5l.94-2.06 2.06-.94-2.06-.94L8.5 2.5l-.94 2.06-2.06.94zm10 10l.94 2.06.94-2.06 2.06-.94-2.06-.94-.94-2.06-.94 2.06-2.06.94z\"/><path d=\"M17.41 7.96l-1.37-1.37c-.4-.4-.92-.59-1.43-.59-.52 0-1.04.2-1.43.59L10.3 9.45l-7.72 7.72c-.78.78-.78 2.05 0 2.83L4 21.41c.39.39.9.59 1.41.59.51 0 1.02-.2 1.41-.59l7.78-7.78 2.81-2.81c.8-.78.8-2.07 0-2.86zM5.41 20L4 18.59l7.72-7.72 1.47 1.35L5.41 20z\"/>\n",
              "  </svg>\n",
              "      </button>\n",
              "      \n",
              "  <style>\n",
              "    .colab-df-container {\n",
              "      display:flex;\n",
              "      flex-wrap:wrap;\n",
              "      gap: 12px;\n",
              "    }\n",
              "\n",
              "    .colab-df-convert {\n",
              "      background-color: #E8F0FE;\n",
              "      border: none;\n",
              "      border-radius: 50%;\n",
              "      cursor: pointer;\n",
              "      display: none;\n",
              "      fill: #1967D2;\n",
              "      height: 32px;\n",
              "      padding: 0 0 0 0;\n",
              "      width: 32px;\n",
              "    }\n",
              "\n",
              "    .colab-df-convert:hover {\n",
              "      background-color: #E2EBFA;\n",
              "      box-shadow: 0px 1px 2px rgba(60, 64, 67, 0.3), 0px 1px 3px 1px rgba(60, 64, 67, 0.15);\n",
              "      fill: #174EA6;\n",
              "    }\n",
              "\n",
              "    [theme=dark] .colab-df-convert {\n",
              "      background-color: #3B4455;\n",
              "      fill: #D2E3FC;\n",
              "    }\n",
              "\n",
              "    [theme=dark] .colab-df-convert:hover {\n",
              "      background-color: #434B5C;\n",
              "      box-shadow: 0px 1px 3px 1px rgba(0, 0, 0, 0.15);\n",
              "      filter: drop-shadow(0px 1px 2px rgba(0, 0, 0, 0.3));\n",
              "      fill: #FFFFFF;\n",
              "    }\n",
              "  </style>\n",
              "\n",
              "      <script>\n",
              "        const buttonEl =\n",
              "          document.querySelector('#df-c2969b8c-4e97-478f-949d-cc42cb5e616f button.colab-df-convert');\n",
              "        buttonEl.style.display =\n",
              "          google.colab.kernel.accessAllowed ? 'block' : 'none';\n",
              "\n",
              "        async function convertToInteractive(key) {\n",
              "          const element = document.querySelector('#df-c2969b8c-4e97-478f-949d-cc42cb5e616f');\n",
              "          const dataTable =\n",
              "            await google.colab.kernel.invokeFunction('convertToInteractive',\n",
              "                                                     [key], {});\n",
              "          if (!dataTable) return;\n",
              "\n",
              "          const docLinkHtml = 'Like what you see? Visit the ' +\n",
              "            '<a target=\"_blank\" href=https://colab.research.google.com/notebooks/data_table.ipynb>data table notebook</a>'\n",
              "            + ' to learn more about interactive tables.';\n",
              "          element.innerHTML = '';\n",
              "          dataTable['output_type'] = 'display_data';\n",
              "          await google.colab.output.renderOutput(dataTable, element);\n",
              "          const docLink = document.createElement('div');\n",
              "          docLink.innerHTML = docLinkHtml;\n",
              "          element.appendChild(docLink);\n",
              "        }\n",
              "      </script>\n",
              "    </div>\n",
              "  </div>\n",
              "  "
            ]
          },
          "metadata": {},
          "execution_count": 38
        }
      ],
      "source": [
        "new_data"
      ]
    },
    {
      "cell_type": "markdown",
      "source": [
        "Let's round off the values in the Loan_status column"
      ],
      "metadata": {
        "id": "5dwtNmzA9rYD"
      },
      "id": "5dwtNmzA9rYD"
    },
    {
      "cell_type": "code",
      "source": [
        "new_data = new_data.round({\"Loan_Status\": 0})"
      ],
      "metadata": {
        "id": "zlcLs6xX9wDz"
      },
      "id": "zlcLs6xX9wDz",
      "execution_count": 39,
      "outputs": []
    },
    {
      "cell_type": "markdown",
      "id": "9fb5d585-437f-42c5-b4ec-08a86a7e3e07",
      "metadata": {
        "id": "9fb5d585-437f-42c5-b4ec-08a86a7e3e07"
      },
      "source": [
        "Our synthetic dataset looks great but how do the correlations compare with the original dataset? They look pretty similar from a quick glance. This confirms that we were able to recreate the dataset because our synthetic dataset is behaving similarly to the authentic data."
      ]
    },
    {
      "cell_type": "code",
      "execution_count": 40,
      "id": "a14bc8f2-e88d-4c57-8017-90ac789cf9ef",
      "metadata": {
        "colab": {
          "base_uri": "https://localhost:8080/",
          "height": 374
        },
        "id": "a14bc8f2-e88d-4c57-8017-90ac789cf9ef",
        "outputId": "b7de3dec-d5e7-42e3-db84-7fc972050ddf"
      },
      "outputs": [
        {
          "output_type": "execute_result",
          "data": {
            "text/plain": [
              "<AxesSubplot:>"
            ]
          },
          "metadata": {},
          "execution_count": 40
        },
        {
          "output_type": "display_data",
          "data": {
            "text/plain": [
              "<Figure size 432x288 with 2 Axes>"
            ],
            "image/png": "[encoded data removed]"
          },
          "metadata": {
            "needs_background": "light"
          }
        }
      ],
      "source": [
        "sns.heatmap(data_imputed.corr())"
      ]
    },
    {
      "cell_type": "code",
      "execution_count": 41,
      "id": "f20d0602-85a7-4cbc-99ac-b1bbbfe5ca5a",
      "metadata": {
        "colab": {
          "base_uri": "https://localhost:8080/",
          "height": 374
        },
        "id": "f20d0602-85a7-4cbc-99ac-b1bbbfe5ca5a",
        "outputId": "dd1eaa02-2b93-4654-ba41-70d633790fe2"
      },
      "outputs": [
        {
          "output_type": "execute_result",
          "data": {
            "text/plain": [
              "<AxesSubplot:>"
            ]
          },
          "metadata": {},
          "execution_count": 41
        },
        {
          "output_type": "display_data",
          "data": {
            "text/plain": [
              "<Figure size 432x288 with 2 Axes>"
            ],
            "image/png": "[encoded data removed]"
          },
          "metadata": {
            "needs_background": "light"
          }
        }
      ],
      "source": [
        "sns.heatmap(new_data.corr())"
      ]
    },
    {
      "cell_type": "markdown",
      "id": "381db7fb-a581-480a-828a-ada155f0282c",
      "metadata": {
        "id": "381db7fb-a581-480a-828a-ada155f0282c"
      },
      "source": [
        "## Machine Learning"
      ]
    },
    {
      "cell_type": "markdown",
      "id": "757f519c-0124-4389-887f-0ec88fc056b8",
      "metadata": {
        "id": "757f519c-0124-4389-887f-0ec88fc056b8"
      },
      "source": [
        "To do a more quantitative test of the synthetic data, we will be training a model on the original data and benchmarking the model against the original data and the synthetic data."
      ]
    },
    {
      "cell_type": "code",
      "execution_count": 42,
      "id": "2e9186b0-53ae-4d21-9a37-cb01a2bb5e4f",
      "metadata": {
        "colab": {
          "base_uri": "https://localhost:8080/"
        },
        "id": "2e9186b0-53ae-4d21-9a37-cb01a2bb5e4f",
        "outputId": "e3cc7b2d-1464-4017-d6ab-578661b8fe35"
      },
      "outputs": [
        {
          "output_type": "execute_result",
          "data": {
            "text/plain": [
              "SVC()"
            ]
          },
          "metadata": {},
          "execution_count": 42
        }
      ],
      "source": [
        "X = data_imputed.drop([\"Loan_Status\"], axis=1)\n",
        "y = data_imputed[\"Loan_Status\"]\n",
        "\n",
        "training_data, test_data = train_test_split(X, test_size=0.2, random_state=seed)\n",
        "training_target, test_target = train_test_split(y, test_size=0.2, random_state=seed)\n",
        "\n",
        "clf = SVC()\n",
        "\n",
        "clf.fit(training_data, training_target)"
      ]
    },
    {
      "cell_type": "code",
      "execution_count": 43,
      "id": "ec777dfd-663f-4901-b2af-95ea0cc6a437",
      "metadata": {
        "colab": {
          "base_uri": "https://localhost:8080/"
        },
        "id": "ec777dfd-663f-4901-b2af-95ea0cc6a437",
        "outputId": "4ae1891f-4f5f-4c6e-f282-d327eefe5134"
      },
      "outputs": [
        {
          "output_type": "stream",
          "name": "stdout",
          "text": [
            "The model was 85.65% accurate on the authentic data\n"
          ]
        }
      ],
      "source": [
        "test_results = clf.predict(test_data)\n",
        "\n",
        "model_accuracy = list(test_results == test_target).count(True) / len(test_target)\n",
        "print(f\"The model was {round(model_accuracy * 100, 2)}% accurate on the authentic data\")"
      ]
    },
    {
      "cell_type": "code",
      "execution_count": 46,
      "id": "04bcbba2-4e91-4aa5-91e1-8a8c6d115d41",
      "metadata": {
        "colab": {
          "base_uri": "https://localhost:8080/"
        },
        "id": "04bcbba2-4e91-4aa5-91e1-8a8c6d115d41",
        "outputId": "a847ebda-42d2-49c3-d254-be6025bfa1d7"
      },
      "outputs": [
        {
          "output_type": "stream",
          "name": "stdout",
          "text": [
            "The model was 72.39% accurate on the synthetic data\n"
          ]
        },
        {
          "output_type": "stream",
          "name": "stderr",
          "text": [
            "/usr/local/lib/python3.7/dist-packages/sklearn/base.py:451: UserWarning: X does not have valid feature names, but SVC was fitted with feature names\n",
            "  \"X does not have valid feature names, but\"\n"
          ]
        }
      ],
      "source": [
        "synthetic_data = new_data.to_numpy()[:,:-1]\n",
        "synthetic_target = new_data.to_numpy()[:,-1:].flatten()\n",
        "\n",
        "synthetic_results = clf.predict(synthetic_data)\n",
        "synthetic_accuracy = list(synthetic_results == synthetic_target).count(True) / len(synthetic_target)\n",
        "\n",
        "print(f\"The model was {round(synthetic_accuracy * 100, 2)}% accurate on the synthetic data\")"
      ]
    },
    {
      "cell_type": "markdown",
      "id": "194f58f8-5c4d-4395-8ad0-6d51b90f98cd",
      "metadata": {
        "id": "194f58f8-5c4d-4395-8ad0-6d51b90f98cd"
      },
      "source": [
        "Our model leaves much to be desired in terms of accuracy. It was only able to hit 85.65% accuracy from our training to test split so it makes sense why the synthetic data didn't benchmark well. Next steps would be performing further processing on the data and tuning the hyperparameters of the models."
      ]
    },
    {
      "cell_type": "markdown",
      "id": "c79259b5-765a-465d-a52b-91a082ae96a1",
      "metadata": {
        "id": "c79259b5-765a-465d-a52b-91a082ae96a1"
      },
      "source": [
        "## Conclusion"
      ]
    },
    {
      "cell_type": "markdown",
      "source": [
        "Based on the analysis we did so far, there are a few important conclusions:\n",
        "\n",
        "- The most important factors in determining whether an application gets approved or not is marital status, income, and dependents. This was seen visually in the exploratory data analysis section, and then confirmed later on by the heatmap. \n",
        "- Our synthetic data generator did not do a good job. When we ran our ML model on the synthetic data, it was only 72.739 accurate. When we previously ran the same model on the authentic data, it was 85.65% accurate."
      ],
      "metadata": {
        "id": "XNPpUh-M-sDQ"
      },
      "id": "XNPpUh-M-sDQ"
    }
  ],
  "metadata": {
    "colab": {
      "name": "main.ipynb",
      "provenance": [],
      "collapsed_sections": [
        "e3355d4a-2e18-4b3d-97d9-28fb607adab7"
      ]
    },
    "kernelspec": {
      "display_name": "Python 3 (ipykernel)",
      "language": "python",
      "name": "python3"
    },
    "language_info": {
      "codemirror_mode": {
        "name": "ipython",
        "version": 3
      },
      "file_extension": ".py",
      "mimetype": "text/x-python",
      "name": "python",
      "nbconvert_exporter": "python",
      "pygments_lexer": "ipython3",
      "version": "3.9.12"
    }
  },
  "nbformat": 4,
  "nbformat_minor": 5
}